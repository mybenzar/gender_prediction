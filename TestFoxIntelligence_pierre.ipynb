{
 "cells": [
  {
   "cell_type": "markdown",
   "metadata": {},
   "source": [
    "# Technical Test Fox Intelligence\n",
    "Pierre OSSELIN 17/05/2019"
   ]
  },
  {
   "cell_type": "markdown",
   "metadata": {},
   "source": [
    "### Library importation"
   ]
  },
  {
   "cell_type": "code",
   "execution_count": 1,
   "metadata": {},
   "outputs": [],
   "source": [
    "from itertools import groupby\n",
    "from functools import reduce\n",
    "from scipy.sparse import dok_matrix,csr_matrix\n",
    "import pandas as pd\n",
    "import numpy as np\n",
    "import seaborn as sns\n",
    "from sklearn.naive_bayes import BernoulliNB\n",
    "from sklearn.linear_model import LogisticRegression, LinearRegression\n",
    "from sklearn.svm import SVC\n",
    "from sklearn.svm import LinearSVC\n",
    "from sklearn.model_selection import GridSearchCV, cross_val_score"
   ]
  },
  {
   "cell_type": "markdown",
   "metadata": {},
   "source": [
    "### Data importation"
   ]
  },
  {
   "cell_type": "code",
   "execution_count": 2,
   "metadata": {},
   "outputs": [],
   "source": [
    "%matplotlib inline\n",
    "initial_data = pd.read_csv('dataset_test.csv')"
   ]
  },
  {
   "cell_type": "code",
   "execution_count": 3,
   "metadata": {},
   "outputs": [
    {
     "data": {
      "text/html": [
       "<div>\n",
       "<style scoped>\n",
       "    .dataframe tbody tr th:only-of-type {\n",
       "        vertical-align: middle;\n",
       "    }\n",
       "\n",
       "    .dataframe tbody tr th {\n",
       "        vertical-align: top;\n",
       "    }\n",
       "\n",
       "    .dataframe thead th {\n",
       "        text-align: right;\n",
       "    }\n",
       "</style>\n",
       "<table border=\"1\" class=\"dataframe\">\n",
       "  <thead>\n",
       "    <tr style=\"text-align: right;\">\n",
       "      <th></th>\n",
       "      <th>nl_email</th>\n",
       "      <th>id</th>\n",
       "      <th>gender</th>\n",
       "    </tr>\n",
       "  </thead>\n",
       "  <tbody>\n",
       "    <tr>\n",
       "      <th>0</th>\n",
       "      <td>0</td>\n",
       "      <td>63150</td>\n",
       "      <td>male</td>\n",
       "    </tr>\n",
       "    <tr>\n",
       "      <th>1</th>\n",
       "      <td>62788</td>\n",
       "      <td>63150</td>\n",
       "      <td>male</td>\n",
       "    </tr>\n",
       "    <tr>\n",
       "      <th>2</th>\n",
       "      <td>89982</td>\n",
       "      <td>63150</td>\n",
       "      <td>male</td>\n",
       "    </tr>\n",
       "    <tr>\n",
       "      <th>3</th>\n",
       "      <td>159185</td>\n",
       "      <td>63150</td>\n",
       "      <td>male</td>\n",
       "    </tr>\n",
       "    <tr>\n",
       "      <th>4</th>\n",
       "      <td>176642</td>\n",
       "      <td>63150</td>\n",
       "      <td>male</td>\n",
       "    </tr>\n",
       "    <tr>\n",
       "      <th>5</th>\n",
       "      <td>178646</td>\n",
       "      <td>63150</td>\n",
       "      <td>male</td>\n",
       "    </tr>\n",
       "    <tr>\n",
       "      <th>6</th>\n",
       "      <td>29073</td>\n",
       "      <td>63150</td>\n",
       "      <td>male</td>\n",
       "    </tr>\n",
       "    <tr>\n",
       "      <th>7</th>\n",
       "      <td>235088</td>\n",
       "      <td>63150</td>\n",
       "      <td>male</td>\n",
       "    </tr>\n",
       "    <tr>\n",
       "      <th>8</th>\n",
       "      <td>237356</td>\n",
       "      <td>63150</td>\n",
       "      <td>male</td>\n",
       "    </tr>\n",
       "    <tr>\n",
       "      <th>9</th>\n",
       "      <td>251901</td>\n",
       "      <td>63150</td>\n",
       "      <td>male</td>\n",
       "    </tr>\n",
       "  </tbody>\n",
       "</table>\n",
       "</div>"
      ],
      "text/plain": [
       "   nl_email     id gender\n",
       "0         0  63150   male\n",
       "1     62788  63150   male\n",
       "2     89982  63150   male\n",
       "3    159185  63150   male\n",
       "4    176642  63150   male\n",
       "5    178646  63150   male\n",
       "6     29073  63150   male\n",
       "7    235088  63150   male\n",
       "8    237356  63150   male\n",
       "9    251901  63150   male"
      ]
     },
     "execution_count": 3,
     "metadata": {},
     "output_type": "execute_result"
    }
   ],
   "source": [
    "initial_data.head(10)"
   ]
  },
  {
   "cell_type": "markdown",
   "metadata": {},
   "source": [
    "### Data checking:\n",
    "Here we check whether the data are cleaned or not, and drop duplicate rows."
   ]
  },
  {
   "cell_type": "code",
   "execution_count": 4,
   "metadata": {},
   "outputs": [
    {
     "data": {
      "text/plain": [
       "True"
      ]
     },
     "execution_count": 4,
     "metadata": {},
     "output_type": "execute_result"
    }
   ],
   "source": [
    "np.array_equal(initial_data.nl_email, initial_data.nl_email.astype(int))"
   ]
  },
  {
   "cell_type": "code",
   "execution_count": 5,
   "metadata": {},
   "outputs": [
    {
     "data": {
      "text/plain": [
       "True"
      ]
     },
     "execution_count": 5,
     "metadata": {},
     "output_type": "execute_result"
    }
   ],
   "source": [
    "np.array_equal(initial_data.id, initial_data.id.astype(int))"
   ]
  },
  {
   "cell_type": "code",
   "execution_count": 6,
   "metadata": {},
   "outputs": [
    {
     "data": {
      "text/plain": [
       "True"
      ]
     },
     "execution_count": 6,
     "metadata": {},
     "output_type": "execute_result"
    }
   ],
   "source": [
    "reduce(lambda a,b: a and (b in [\"male\", \"female\"]), initial_data.gender, True)"
   ]
  },
  {
   "cell_type": "code",
   "execution_count": 7,
   "metadata": {},
   "outputs": [
    {
     "data": {
      "text/html": [
       "<div>\n",
       "<style scoped>\n",
       "    .dataframe tbody tr th:only-of-type {\n",
       "        vertical-align: middle;\n",
       "    }\n",
       "\n",
       "    .dataframe tbody tr th {\n",
       "        vertical-align: top;\n",
       "    }\n",
       "\n",
       "    .dataframe thead th {\n",
       "        text-align: right;\n",
       "    }\n",
       "</style>\n",
       "<table border=\"1\" class=\"dataframe\">\n",
       "  <thead>\n",
       "    <tr style=\"text-align: right;\">\n",
       "      <th></th>\n",
       "      <th>nl_email</th>\n",
       "      <th>id</th>\n",
       "      <th>gender</th>\n",
       "    </tr>\n",
       "  </thead>\n",
       "  <tbody>\n",
       "    <tr>\n",
       "      <th>0</th>\n",
       "      <td>0</td>\n",
       "      <td>63150</td>\n",
       "      <td>male</td>\n",
       "    </tr>\n",
       "    <tr>\n",
       "      <th>1</th>\n",
       "      <td>62788</td>\n",
       "      <td>63150</td>\n",
       "      <td>male</td>\n",
       "    </tr>\n",
       "    <tr>\n",
       "      <th>2</th>\n",
       "      <td>89982</td>\n",
       "      <td>63150</td>\n",
       "      <td>male</td>\n",
       "    </tr>\n",
       "    <tr>\n",
       "      <th>3</th>\n",
       "      <td>159185</td>\n",
       "      <td>63150</td>\n",
       "      <td>male</td>\n",
       "    </tr>\n",
       "    <tr>\n",
       "      <th>4</th>\n",
       "      <td>176642</td>\n",
       "      <td>63150</td>\n",
       "      <td>male</td>\n",
       "    </tr>\n",
       "    <tr>\n",
       "      <th>5</th>\n",
       "      <td>178646</td>\n",
       "      <td>63150</td>\n",
       "      <td>male</td>\n",
       "    </tr>\n",
       "    <tr>\n",
       "      <th>6</th>\n",
       "      <td>29073</td>\n",
       "      <td>63150</td>\n",
       "      <td>male</td>\n",
       "    </tr>\n",
       "    <tr>\n",
       "      <th>7</th>\n",
       "      <td>235088</td>\n",
       "      <td>63150</td>\n",
       "      <td>male</td>\n",
       "    </tr>\n",
       "    <tr>\n",
       "      <th>8</th>\n",
       "      <td>237356</td>\n",
       "      <td>63150</td>\n",
       "      <td>male</td>\n",
       "    </tr>\n",
       "    <tr>\n",
       "      <th>9</th>\n",
       "      <td>251901</td>\n",
       "      <td>63150</td>\n",
       "      <td>male</td>\n",
       "    </tr>\n",
       "    <tr>\n",
       "      <th>10</th>\n",
       "      <td>274425</td>\n",
       "      <td>63150</td>\n",
       "      <td>male</td>\n",
       "    </tr>\n",
       "    <tr>\n",
       "      <th>11</th>\n",
       "      <td>286839</td>\n",
       "      <td>63150</td>\n",
       "      <td>male</td>\n",
       "    </tr>\n",
       "    <tr>\n",
       "      <th>12</th>\n",
       "      <td>291951</td>\n",
       "      <td>63150</td>\n",
       "      <td>male</td>\n",
       "    </tr>\n",
       "    <tr>\n",
       "      <th>13</th>\n",
       "      <td>375826</td>\n",
       "      <td>63150</td>\n",
       "      <td>male</td>\n",
       "    </tr>\n",
       "    <tr>\n",
       "      <th>14</th>\n",
       "      <td>384834</td>\n",
       "      <td>63150</td>\n",
       "      <td>male</td>\n",
       "    </tr>\n",
       "    <tr>\n",
       "      <th>15</th>\n",
       "      <td>385566</td>\n",
       "      <td>63150</td>\n",
       "      <td>male</td>\n",
       "    </tr>\n",
       "    <tr>\n",
       "      <th>16</th>\n",
       "      <td>411744</td>\n",
       "      <td>63150</td>\n",
       "      <td>male</td>\n",
       "    </tr>\n",
       "    <tr>\n",
       "      <th>17</th>\n",
       "      <td>526721</td>\n",
       "      <td>63150</td>\n",
       "      <td>male</td>\n",
       "    </tr>\n",
       "    <tr>\n",
       "      <th>18</th>\n",
       "      <td>544945</td>\n",
       "      <td>63150</td>\n",
       "      <td>male</td>\n",
       "    </tr>\n",
       "    <tr>\n",
       "      <th>19</th>\n",
       "      <td>553220</td>\n",
       "      <td>63150</td>\n",
       "      <td>male</td>\n",
       "    </tr>\n",
       "    <tr>\n",
       "      <th>20</th>\n",
       "      <td>566193</td>\n",
       "      <td>63150</td>\n",
       "      <td>male</td>\n",
       "    </tr>\n",
       "    <tr>\n",
       "      <th>21</th>\n",
       "      <td>577008</td>\n",
       "      <td>63150</td>\n",
       "      <td>male</td>\n",
       "    </tr>\n",
       "    <tr>\n",
       "      <th>22</th>\n",
       "      <td>584899</td>\n",
       "      <td>63150</td>\n",
       "      <td>male</td>\n",
       "    </tr>\n",
       "    <tr>\n",
       "      <th>23</th>\n",
       "      <td>585474</td>\n",
       "      <td>63150</td>\n",
       "      <td>male</td>\n",
       "    </tr>\n",
       "    <tr>\n",
       "      <th>24</th>\n",
       "      <td>680432</td>\n",
       "      <td>63150</td>\n",
       "      <td>male</td>\n",
       "    </tr>\n",
       "    <tr>\n",
       "      <th>25</th>\n",
       "      <td>685199</td>\n",
       "      <td>63150</td>\n",
       "      <td>male</td>\n",
       "    </tr>\n",
       "    <tr>\n",
       "      <th>26</th>\n",
       "      <td>690744</td>\n",
       "      <td>63150</td>\n",
       "      <td>male</td>\n",
       "    </tr>\n",
       "    <tr>\n",
       "      <th>27</th>\n",
       "      <td>700016</td>\n",
       "      <td>63150</td>\n",
       "      <td>male</td>\n",
       "    </tr>\n",
       "    <tr>\n",
       "      <th>28</th>\n",
       "      <td>739461</td>\n",
       "      <td>63150</td>\n",
       "      <td>male</td>\n",
       "    </tr>\n",
       "    <tr>\n",
       "      <th>29</th>\n",
       "      <td>761060</td>\n",
       "      <td>63150</td>\n",
       "      <td>male</td>\n",
       "    </tr>\n",
       "    <tr>\n",
       "      <th>...</th>\n",
       "      <td>...</td>\n",
       "      <td>...</td>\n",
       "      <td>...</td>\n",
       "    </tr>\n",
       "    <tr>\n",
       "      <th>8584504</th>\n",
       "      <td>824190</td>\n",
       "      <td>142980</td>\n",
       "      <td>female</td>\n",
       "    </tr>\n",
       "    <tr>\n",
       "      <th>8584505</th>\n",
       "      <td>824235</td>\n",
       "      <td>48252</td>\n",
       "      <td>male</td>\n",
       "    </tr>\n",
       "    <tr>\n",
       "      <th>8584506</th>\n",
       "      <td>824235</td>\n",
       "      <td>69845</td>\n",
       "      <td>female</td>\n",
       "    </tr>\n",
       "    <tr>\n",
       "      <th>8584507</th>\n",
       "      <td>824235</td>\n",
       "      <td>104254</td>\n",
       "      <td>female</td>\n",
       "    </tr>\n",
       "    <tr>\n",
       "      <th>8584508</th>\n",
       "      <td>824235</td>\n",
       "      <td>116719</td>\n",
       "      <td>male</td>\n",
       "    </tr>\n",
       "    <tr>\n",
       "      <th>8584509</th>\n",
       "      <td>824235</td>\n",
       "      <td>120693</td>\n",
       "      <td>female</td>\n",
       "    </tr>\n",
       "    <tr>\n",
       "      <th>8584510</th>\n",
       "      <td>824235</td>\n",
       "      <td>157586</td>\n",
       "      <td>female</td>\n",
       "    </tr>\n",
       "    <tr>\n",
       "      <th>8584511</th>\n",
       "      <td>824235</td>\n",
       "      <td>212840</td>\n",
       "      <td>male</td>\n",
       "    </tr>\n",
       "    <tr>\n",
       "      <th>8584512</th>\n",
       "      <td>824235</td>\n",
       "      <td>378551</td>\n",
       "      <td>male</td>\n",
       "    </tr>\n",
       "    <tr>\n",
       "      <th>8584513</th>\n",
       "      <td>824235</td>\n",
       "      <td>384709</td>\n",
       "      <td>female</td>\n",
       "    </tr>\n",
       "    <tr>\n",
       "      <th>8584514</th>\n",
       "      <td>824235</td>\n",
       "      <td>402219</td>\n",
       "      <td>male</td>\n",
       "    </tr>\n",
       "    <tr>\n",
       "      <th>8584515</th>\n",
       "      <td>824235</td>\n",
       "      <td>417672</td>\n",
       "      <td>female</td>\n",
       "    </tr>\n",
       "    <tr>\n",
       "      <th>8584516</th>\n",
       "      <td>824235</td>\n",
       "      <td>539348</td>\n",
       "      <td>female</td>\n",
       "    </tr>\n",
       "    <tr>\n",
       "      <th>8584517</th>\n",
       "      <td>824235</td>\n",
       "      <td>1410292</td>\n",
       "      <td>male</td>\n",
       "    </tr>\n",
       "    <tr>\n",
       "      <th>8584518</th>\n",
       "      <td>824235</td>\n",
       "      <td>1429943</td>\n",
       "      <td>female</td>\n",
       "    </tr>\n",
       "    <tr>\n",
       "      <th>8584519</th>\n",
       "      <td>824235</td>\n",
       "      <td>1275733</td>\n",
       "      <td>male</td>\n",
       "    </tr>\n",
       "    <tr>\n",
       "      <th>8584520</th>\n",
       "      <td>824235</td>\n",
       "      <td>798814</td>\n",
       "      <td>female</td>\n",
       "    </tr>\n",
       "    <tr>\n",
       "      <th>8584521</th>\n",
       "      <td>824235</td>\n",
       "      <td>841581</td>\n",
       "      <td>male</td>\n",
       "    </tr>\n",
       "    <tr>\n",
       "      <th>8584522</th>\n",
       "      <td>824264</td>\n",
       "      <td>988332</td>\n",
       "      <td>female</td>\n",
       "    </tr>\n",
       "    <tr>\n",
       "      <th>8584523</th>\n",
       "      <td>824299</td>\n",
       "      <td>6147</td>\n",
       "      <td>female</td>\n",
       "    </tr>\n",
       "    <tr>\n",
       "      <th>8584524</th>\n",
       "      <td>824773</td>\n",
       "      <td>838442</td>\n",
       "      <td>male</td>\n",
       "    </tr>\n",
       "    <tr>\n",
       "      <th>8584525</th>\n",
       "      <td>824929</td>\n",
       "      <td>162416</td>\n",
       "      <td>male</td>\n",
       "    </tr>\n",
       "    <tr>\n",
       "      <th>8584526</th>\n",
       "      <td>824996</td>\n",
       "      <td>1081281</td>\n",
       "      <td>male</td>\n",
       "    </tr>\n",
       "    <tr>\n",
       "      <th>8584527</th>\n",
       "      <td>825044</td>\n",
       "      <td>464017</td>\n",
       "      <td>male</td>\n",
       "    </tr>\n",
       "    <tr>\n",
       "      <th>8584528</th>\n",
       "      <td>825044</td>\n",
       "      <td>566353</td>\n",
       "      <td>male</td>\n",
       "    </tr>\n",
       "    <tr>\n",
       "      <th>8584529</th>\n",
       "      <td>825044</td>\n",
       "      <td>1416067</td>\n",
       "      <td>male</td>\n",
       "    </tr>\n",
       "    <tr>\n",
       "      <th>8584530</th>\n",
       "      <td>825077</td>\n",
       "      <td>587074</td>\n",
       "      <td>male</td>\n",
       "    </tr>\n",
       "    <tr>\n",
       "      <th>8584531</th>\n",
       "      <td>825406</td>\n",
       "      <td>149592</td>\n",
       "      <td>female</td>\n",
       "    </tr>\n",
       "    <tr>\n",
       "      <th>8584532</th>\n",
       "      <td>825406</td>\n",
       "      <td>175272</td>\n",
       "      <td>male</td>\n",
       "    </tr>\n",
       "    <tr>\n",
       "      <th>8584533</th>\n",
       "      <td>825406</td>\n",
       "      <td>277218</td>\n",
       "      <td>male</td>\n",
       "    </tr>\n",
       "  </tbody>\n",
       "</table>\n",
       "<p>8583652 rows × 3 columns</p>\n",
       "</div>"
      ],
      "text/plain": [
       "         nl_email       id  gender\n",
       "0               0    63150    male\n",
       "1           62788    63150    male\n",
       "2           89982    63150    male\n",
       "3          159185    63150    male\n",
       "4          176642    63150    male\n",
       "5          178646    63150    male\n",
       "6           29073    63150    male\n",
       "7          235088    63150    male\n",
       "8          237356    63150    male\n",
       "9          251901    63150    male\n",
       "10         274425    63150    male\n",
       "11         286839    63150    male\n",
       "12         291951    63150    male\n",
       "13         375826    63150    male\n",
       "14         384834    63150    male\n",
       "15         385566    63150    male\n",
       "16         411744    63150    male\n",
       "17         526721    63150    male\n",
       "18         544945    63150    male\n",
       "19         553220    63150    male\n",
       "20         566193    63150    male\n",
       "21         577008    63150    male\n",
       "22         584899    63150    male\n",
       "23         585474    63150    male\n",
       "24         680432    63150    male\n",
       "25         685199    63150    male\n",
       "26         690744    63150    male\n",
       "27         700016    63150    male\n",
       "28         739461    63150    male\n",
       "29         761060    63150    male\n",
       "...           ...      ...     ...\n",
       "8584504    824190   142980  female\n",
       "8584505    824235    48252    male\n",
       "8584506    824235    69845  female\n",
       "8584507    824235   104254  female\n",
       "8584508    824235   116719    male\n",
       "8584509    824235   120693  female\n",
       "8584510    824235   157586  female\n",
       "8584511    824235   212840    male\n",
       "8584512    824235   378551    male\n",
       "8584513    824235   384709  female\n",
       "8584514    824235   402219    male\n",
       "8584515    824235   417672  female\n",
       "8584516    824235   539348  female\n",
       "8584517    824235  1410292    male\n",
       "8584518    824235  1429943  female\n",
       "8584519    824235  1275733    male\n",
       "8584520    824235   798814  female\n",
       "8584521    824235   841581    male\n",
       "8584522    824264   988332  female\n",
       "8584523    824299     6147  female\n",
       "8584524    824773   838442    male\n",
       "8584525    824929   162416    male\n",
       "8584526    824996  1081281    male\n",
       "8584527    825044   464017    male\n",
       "8584528    825044   566353    male\n",
       "8584529    825044  1416067    male\n",
       "8584530    825077   587074    male\n",
       "8584531    825406   149592  female\n",
       "8584532    825406   175272    male\n",
       "8584533    825406   277218    male\n",
       "\n",
       "[8583652 rows x 3 columns]"
      ]
     },
     "execution_count": 7,
     "metadata": {},
     "output_type": "execute_result"
    }
   ],
   "source": [
    "initial_data.drop_duplicates()"
   ]
  },
  {
   "cell_type": "code",
   "execution_count": 8,
   "metadata": {},
   "outputs": [
    {
     "name": "stdout",
     "output_type": "stream",
     "text": [
      "825409\n",
      "203946\n"
     ]
    }
   ],
   "source": [
    "m = len(initial_data['nl_email'].unique())\n",
    "p = len(initial_data['id'].unique())\n",
    "print(m)\n",
    "print(p)"
   ]
  },
  {
   "cell_type": "code",
   "execution_count": 9,
   "metadata": {},
   "outputs": [
    {
     "name": "stdout",
     "output_type": "stream",
     "text": [
      "(8584534, 3)\n"
     ]
    }
   ],
   "source": [
    "print(initial_data.shape)"
   ]
  },
  {
   "cell_type": "markdown",
   "metadata": {},
   "source": [
    "We have $p = 203,946$ individuals and $m = 825,409$ different newletters.The mean number of newletters is $42$ per individual, and a newletter is adopted by $10$ persons on average.\n",
    "We are in a case where the number of features is far larger than the data $m >> p$, hence in a case where we can expect most prediction algorithms to perform poorly. We would prefer to select a small subset of features with strong effects."
   ]
  },
  {
   "cell_type": "markdown",
   "metadata": {},
   "source": [
    "### Preprocessing\n",
    "Here we transform the gender in binary target. And encode the newletters in one-hot vectors in a sparse matrix."
   ]
  },
  {
   "cell_type": "code",
   "execution_count": 10,
   "metadata": {},
   "outputs": [],
   "source": [
    "initial_data.replace(('male', 'female'), (1, 0), inplace=True)"
   ]
  },
  {
   "cell_type": "code",
   "execution_count": 11,
   "metadata": {},
   "outputs": [],
   "source": [
    "grouped = initial_data.groupby(\"id\")"
   ]
  },
  {
   "cell_type": "code",
   "execution_count": 12,
   "metadata": {},
   "outputs": [],
   "source": [
    "S = dok_matrix((p, m), dtype = int)\n",
    "y = np.zeros((p,), dtype = int)"
   ]
  },
  {
   "cell_type": "code",
   "execution_count": 13,
   "metadata": {},
   "outputs": [],
   "source": [
    "for count, (key, item) in enumerate(grouped):\n",
    "    y[count] = int(item[\"gender\"].head(1))\n",
    "    for i in item[\"nl_email\"]:\n",
    "        S[count, i] = 1"
   ]
  },
  {
   "cell_type": "code",
   "execution_count": 14,
   "metadata": {},
   "outputs": [],
   "source": [
    "S = csr_matrix(S)"
   ]
  },
  {
   "cell_type": "markdown",
   "metadata": {},
   "source": [
    "### Data description\n",
    "In this part we look at indicators among data such as the proportion Male/Female, the distribution of the number of newletters per individual and then per gender."
   ]
  },
  {
   "cell_type": "code",
   "execution_count": 15,
   "metadata": {},
   "outputs": [
    {
     "data": {
      "text/plain": [
       "(203946, 825409)"
      ]
     },
     "execution_count": 15,
     "metadata": {},
     "output_type": "execute_result"
    }
   ],
   "source": [
    "## Number of individuals / Number of newletters\n",
    "S.shape"
   ]
  },
  {
   "cell_type": "code",
   "execution_count": 16,
   "metadata": {},
   "outputs": [
    {
     "data": {
      "text/plain": [
       "0.5575838702401616"
      ]
     },
     "execution_count": 16,
     "metadata": {},
     "output_type": "execute_result"
    }
   ],
   "source": [
    "## Proportion of male\n",
    "sum(y)/p"
   ]
  },
  {
   "cell_type": "code",
   "execution_count": 17,
   "metadata": {},
   "outputs": [
    {
     "data": {
      "text/plain": [
       "<matplotlib.axes._subplots.AxesSubplot at 0x1fd0900f780>"
      ]
     },
     "execution_count": 17,
     "metadata": {},
     "output_type": "execute_result"
    },
    {
     "data": {
      "image/png": "[encoded data removed]",
      "text/plain": [
       "<Figure size 432x288 with 1 Axes>"
      ]
     },
     "metadata": {},
     "output_type": "display_data"
    }
   ],
   "source": [
    "## Distribution of the number of newletters\n",
    "result = S.sum(axis = 0)\n",
    "result = np.array(np.matrix.tolist(result)[0])\n",
    "sns.distplot(result, hist=True, kde=False, \n",
    "             bins=20, color = 'blue',\n",
    "             hist_kws={'edgecolor':'black'})"
   ]
  },
  {
   "cell_type": "code",
   "execution_count": 18,
   "metadata": {},
   "outputs": [
    {
     "data": {
      "text/plain": [
       "<matplotlib.axes._subplots.AxesSubplot at 0x1fd04ae7668>"
      ]
     },
     "execution_count": 18,
     "metadata": {},
     "output_type": "execute_result"
    },
    {
     "data": {
      "image/png": "[encoded data removed]",
      "text/plain": [
       "<Figure size 432x288 with 1 Axes>"
      ]
     },
     "metadata": {},
     "output_type": "display_data"
    }
   ],
   "source": [
    "## By looking more closely arround 1 we have:\n",
    "sns.distplot(result[np.where(result < 20)[0]], hist=True, kde=False, \n",
    "             bins=20, color = 'blue',\n",
    "             hist_kws={'edgecolor':'black'})"
   ]
  },
  {
   "cell_type": "code",
   "execution_count": 19,
   "metadata": {},
   "outputs": [
    {
     "data": {
      "text/plain": [
       "<matplotlib.axes._subplots.AxesSubplot at 0x1fd0635b518>"
      ]
     },
     "execution_count": 19,
     "metadata": {},
     "output_type": "execute_result"
    },
    {
     "data": {
      "image/png": "[encoded data removed]",
      "text/plain": [
       "<Figure size 432x288 with 1 Axes>"
      ]
     },
     "metadata": {},
     "output_type": "display_data"
    }
   ],
   "source": [
    "## This distribution looks like a fat-tail power law distribution, let's check this.\n",
    "a = sorted(result)\n",
    "b = np.array([len(list(group)) for key, group in groupby(a)])\n",
    "abc = np.array([np.log(i+1) for i in range(len(b))])\n",
    "\n",
    "abc = np.array([np.log(i+1) for i in range(len(b))])\n",
    "regr = LinearRegression()\n",
    "regr.fit(abc.reshape(-1,1), (np.log(b)).reshape(-1,1))\n",
    "\n",
    "sns.lineplot(x = abc,y = np.log(b))\n",
    "sns.lineplot(x = abc,y = regr.predict(abc.reshape(-1,1)).T[0])"
   ]
  },
  {
   "cell_type": "code",
   "execution_count": 20,
   "metadata": {
    "scrolled": true
   },
   "outputs": [
    {
     "name": "stdout",
     "output_type": "stream",
     "text": [
      "1.727288012808117\n",
      "213485.34046980037\n"
     ]
    }
   ],
   "source": [
    "k = -float(regr.coef_)\n",
    "a = float(np.exp(regr.intercept_))\n",
    "print(k)\n",
    "print(a)"
   ]
  },
  {
   "cell_type": "markdown",
   "metadata": {},
   "source": [
    "We effectively have a fat tail distribution with parameters $k = 1.73$ and $a = 213485$."
   ]
  },
  {
   "cell_type": "code",
   "execution_count": 21,
   "metadata": {},
   "outputs": [],
   "source": [
    "## Average number of newletters per gender :\n",
    "resultGender = S.sum(axis = 1)"
   ]
  },
  {
   "cell_type": "code",
   "execution_count": 22,
   "metadata": {},
   "outputs": [],
   "source": [
    "resultGender = np.array(np.matrix.tolist(np.matrix.transpose(resultGender))[0])\n",
    "distribMale = resultGender[np.where(y == 1)[0]]\n",
    "distribFemale = resultGender[np.where(y == 0)[0]]"
   ]
  },
  {
   "cell_type": "code",
   "execution_count": 23,
   "metadata": {},
   "outputs": [
    {
     "name": "stderr",
     "output_type": "stream",
     "text": [
      "C:\\Anaconda3\\lib\\site-packages\\scipy\\stats\\stats.py:1713: FutureWarning: Using a non-tuple sequence for multidimensional indexing is deprecated; use `arr[tuple(seq)]` instead of `arr[seq]`. In the future this will be interpreted as an array index, `arr[np.array(seq)]`, which will result either in an error or a different result.\n",
      "  return np.add.reduce(sorted[indexer] * weights, axis=axis) / sumval\n"
     ]
    },
    {
     "data": {
      "text/plain": [
       "<matplotlib.axes._subplots.AxesSubplot at 0x1fd063bdac8>"
      ]
     },
     "execution_count": 23,
     "metadata": {},
     "output_type": "execute_result"
    },
    {
     "data": {
      "image/png": "[encoded data removed]",
      "text/plain": [
       "<Figure size 432x288 with 1 Axes>"
      ]
     },
     "metadata": {},
     "output_type": "display_data"
    }
   ],
   "source": [
    "sns.distplot(distribMale, hist=True, kde=True, \n",
    "             bins=20, color = 'blue',\n",
    "             hist_kws={'edgecolor':'black'})"
   ]
  },
  {
   "cell_type": "code",
   "execution_count": 24,
   "metadata": {},
   "outputs": [
    {
     "name": "stderr",
     "output_type": "stream",
     "text": [
      "C:\\Anaconda3\\lib\\site-packages\\scipy\\stats\\stats.py:1713: FutureWarning: Using a non-tuple sequence for multidimensional indexing is deprecated; use `arr[tuple(seq)]` instead of `arr[seq]`. In the future this will be interpreted as an array index, `arr[np.array(seq)]`, which will result either in an error or a different result.\n",
      "  return np.add.reduce(sorted[indexer] * weights, axis=axis) / sumval\n"
     ]
    },
    {
     "data": {
      "text/plain": [
       "<matplotlib.axes._subplots.AxesSubplot at 0x1fd77932c50>"
      ]
     },
     "execution_count": 24,
     "metadata": {},
     "output_type": "execute_result"
    },
    {
     "data": {
      "image/png": "[encoded data removed]",
      "text/plain": [
       "<Figure size 432x288 with 1 Axes>"
      ]
     },
     "metadata": {},
     "output_type": "display_data"
    }
   ],
   "source": [
    "sns.distplot(distribFemale, hist=True, kde=True, \n",
    "             bins=20, color = 'blue',\n",
    "             hist_kws={'edgecolor':'black'})"
   ]
  },
  {
   "cell_type": "code",
   "execution_count": 25,
   "metadata": {},
   "outputs": [
    {
     "name": "stdout",
     "output_type": "stream",
     "text": [
      "42.77699904148017\n",
      "41.21934189672943\n"
     ]
    }
   ],
   "source": [
    "print(np.mean(distribMale))\n",
    "print(np.mean(distribFemale))"
   ]
  },
  {
   "cell_type": "markdown",
   "metadata": {},
   "source": [
    "### Discussion\n",
    "\n",
    "From our previous analysis, we can notice that :\n",
    "\n",
    "- We have very sparse data, with many newletters and a low mean number of newletters adopted by invividual.\n",
    "- The distribution of the number of individuals adopting each newletter is very skewed and follow a power law distribution, with many newletters adopted by very few people, but with the presence of newletters adopted by a very large audience. This distribution is encountered in many real-world examples, such as the number of citation by research article or the distribution of wealth.\n",
    "- The behaviour of each gender is similar in terms of mean number of newletters adopted. However, the variance of the distribution is different, we could infer a weak classifier from the number of newletters adopted taking advantage of this difference in variance.\n",
    "- From the previous point, we can make the approximation that deleting the least popular newletters would reduce the dimension of the features and limit the loss of information.\n",
    "- As starting point, one could use the L-curve criterion on the distribution of the count distribution of the newletters, which should optimize the ratio between loss of information (we discard newletters that carry little information compared to the remaining newletters) and reduction of the complexity:\n",
    "\n",
    "$f(x) = ax^{-k}$, we want to minimize $g(x) = x^{2} + f^{2}(x)$, after computation we have $x_{min} = (ka^{2})^{\\frac{1}{2k + 2}} = 99.45$.\n",
    "\n",
    "This criterion suggest to discard all the newletters that are adopted by less than $100$ individuals.\n",
    "\n",
    "Of course, we could use other methods for dimensionality reduction in an unsupervised configuration such as PCA, t-SNE or SVD. However these methods have the disadvantage of losing interpretability."
   ]
  },
  {
   "cell_type": "code",
   "execution_count": 26,
   "metadata": {},
   "outputs": [
    {
     "name": "stdout",
     "output_type": "stream",
     "text": [
      "99.45057488031195\n"
     ]
    }
   ],
   "source": [
    "xmin = (k*a*a)**(1/(2*k+2))\n",
    "print(xmin)"
   ]
  },
  {
   "cell_type": "code",
   "execution_count": 27,
   "metadata": {},
   "outputs": [
    {
     "data": {
      "text/plain": [
       "<matplotlib.axes._subplots.AxesSubplot at 0x1fd0461cd30>"
      ]
     },
     "execution_count": 27,
     "metadata": {},
     "output_type": "execute_result"
    },
    {
     "data": {
      "image/png": "[encoded data removed]",
      "text/plain": [
       "<Figure size 432x288 with 1 Axes>"
      ]
     },
     "metadata": {},
     "output_type": "display_data"
    }
   ],
   "source": [
    "sns.distplot(result[np.where(result > 99)[0]], hist=True, kde=False, \n",
    "             bins=20, color = 'blue',\n",
    "             hist_kws={'edgecolor':'black'})"
   ]
  },
  {
   "cell_type": "code",
   "execution_count": 28,
   "metadata": {},
   "outputs": [
    {
     "data": {
      "text/plain": [
       "9859"
      ]
     },
     "execution_count": 28,
     "metadata": {},
     "output_type": "execute_result"
    }
   ],
   "source": [
    "len(np.where(result > 99)[0])"
   ]
  },
  {
   "cell_type": "markdown",
   "metadata": {},
   "source": [
    "Our criterion select a \"vocabulary\" of the $9859$ most encountered newletters. Let's reduce the matrix S:"
   ]
  },
  {
   "cell_type": "code",
   "execution_count": 29,
   "metadata": {},
   "outputs": [],
   "source": [
    "Sreduced = S[:,np.where(result > 99)[0]]"
   ]
  },
  {
   "cell_type": "code",
   "execution_count": 30,
   "metadata": {},
   "outputs": [
    {
     "data": {
      "text/plain": [
       "(203946, 9859)"
      ]
     },
     "execution_count": 30,
     "metadata": {},
     "output_type": "execute_result"
    }
   ],
   "source": [
    "Sreduced.shape"
   ]
  },
  {
   "cell_type": "markdown",
   "metadata": {},
   "source": [
    "### Logistic Lasso\n",
    "The use of classifier with sparse selection of features such as the logistic regression with Lasso is expected to be convenient:\n",
    "\n",
    "$p(C = 1 | x) = \\frac{1}{1+e^{-\\beta^{T}x}}$ where C is the class (Male of Female), $x = [1,x_{1}, ..., x_{m}]$ is the one-hot vector of newletters and $\\beta = [\\beta_{0}, \\beta_{1}, ... \\beta_{m}]$ are the weight coefficients.\n",
    "\n",
    "The loss function will be $\\mathcal{L}(\\beta | \\mathcal{D}) = \\sum\\limits_{i = 1}^{p} C^{i}log(p(C = 1 | x^{i})) + (1-C^{i})log(1-p(C = 1 | x^{i})) + \\lambda||\\beta||_{1}$ where $\\lambda$ is the regularization hyperparameter that will be fitted by cross validation, and whose generalized score will be assessed by nested cross-validation.\n",
    "\n",
    "We carry out a nested cross validation in order to select the parameter $C = \\frac{1}{\\lambda}$ representing the inverse of the strengh of the regularization. \n",
    "The gridsearch cv already implement a hyperparameter selection via cross-validation where stratified 3-folds are used (the proportion of the classes \"Male\" and \"Female\" are preserved in the folds). The classes are relatively balanced ($56\\%$ of male, $44\\%$ of female) so the mean accuracy score could be used for model evaluation."
   ]
  },
  {
   "cell_type": "code",
   "execution_count": 31,
   "metadata": {
    "scrolled": true
   },
   "outputs": [
    {
     "data": {
      "text/plain": [
       "0.21544346900318834"
      ]
     },
     "execution_count": 31,
     "metadata": {},
     "output_type": "execute_result"
    }
   ],
   "source": [
    "## Model selection and fitting on the whole dataset through cross-validation.\n",
    "C_candidates = dict(C=np.logspace(-2, 1, 10))\n",
    "clf = GridSearchCV(estimator=LogisticRegression(penalty = \"l1\"), param_grid=C_candidates)\n",
    "clf.fit(Sreduced, y)\n",
    "clf.best_estimator_.C"
   ]
  },
  {
   "cell_type": "code",
   "execution_count": 32,
   "metadata": {},
   "outputs": [
    {
     "data": {
      "text/plain": [
       "0.8038206191835093"
      ]
     },
     "execution_count": 32,
     "metadata": {},
     "output_type": "execute_result"
    }
   ],
   "source": [
    "## Mean accuracy score of the test sets of the best model\n",
    "clf.best_score_"
   ]
  },
  {
   "cell_type": "markdown",
   "metadata": {},
   "source": [
    "The goal of this model is to select a potentially small subset of newletters that are the most relevant for predicting gender. Let's compute the number of newletters selected by our model."
   ]
  },
  {
   "cell_type": "code",
   "execution_count": 33,
   "metadata": {},
   "outputs": [
    {
     "data": {
      "text/plain": [
       "4435"
      ]
     },
     "execution_count": 33,
     "metadata": {},
     "output_type": "execute_result"
    }
   ],
   "source": [
    "len(np.nonzero(clf.best_estimator_.coef_[0])[0])"
   ]
  },
  {
   "cell_type": "markdown",
   "metadata": {},
   "source": [
    "When we do not use Sreduced but directly the raw data, we can notice that $5488$ newletters are selected over $825409$.\n",
    "\n",
    "When we use the reduced matrix we obtain $4435$ newletters out of $9859$.\n",
    "\n",
    "The previous score is biased in the sense that it represents the best score one can attain with the data available, and $\\lambda$ has been selected to maximize this score. To assess the potential generalized error we can perform a nested cross validation, where the outer loop assess the error of a model fitted and selected by cross-validation in the inner loop."
   ]
  },
  {
   "cell_type": "code",
   "execution_count": 34,
   "metadata": {
    "scrolled": true
   },
   "outputs": [
    {
     "data": {
      "text/plain": [
       "array([0.83512054, 0.80578683, 0.7704947 ])"
      ]
     },
     "execution_count": 34,
     "metadata": {},
     "output_type": "execute_result"
    }
   ],
   "source": [
    "cross_val_score(clf, Sreduced, y)"
   ]
  },
  {
   "cell_type": "markdown",
   "metadata": {},
   "source": [
    "We have an estimator of the generalized accuracy of the model of roughly $80\\%$ with $4435$ newletters, we obtain the same generalized score with $5488$ newletters performing the lasso directly on the raw data."
   ]
  },
  {
   "cell_type": "markdown",
   "metadata": {},
   "source": [
    "### Naive bayes classifier\n",
    "From a probabilistic view, we try to model $P(C | X_{1}, ..., X_{m})$ from the data. If we had an infinite amount of data we could directly infer the distribution using contingency tables, which is inconceivable here. We hence need to put some structure on the conditional independances between the random variables representing the features. The simplest one is to consider independance of the features given the gender:\n",
    "$P(X_{1}, ..., X_{m} | C) = \\prod\\limits_{i = 1}^{m}P(X_{i} | C)$.\n",
    "\n",
    "Given $P(C | X_{1}, ..., X_{m}) \\propto P(C)\\prod\\limits_{i = 1}^{m}P(X_{i} | C)$ the MAP estimate of $C$ is the one maximizing the previous quantity (which is not a probability).\n",
    "\n",
    "We can simply model $P(X_{i} | C)$ by a bernouilli distribution with parameter $\\hat{p_{i}} = \\frac{\\#newletter_{i,c}}{\\#C}$ which is the proportion of occurence of the newletter $i$ in each gender."
   ]
  },
  {
   "cell_type": "code",
   "execution_count": 35,
   "metadata": {},
   "outputs": [
    {
     "data": {
      "text/plain": [
       "0.46415888336127786"
      ]
     },
     "execution_count": 35,
     "metadata": {},
     "output_type": "execute_result"
    }
   ],
   "source": [
    "alpha_candidates = dict(alpha=np.logspace(-1, 1, 10))\n",
    "clfBayes = GridSearchCV(estimator=BernoulliNB(), param_grid=alpha_candidates)\n",
    "clfBayes.fit(Sreduced, y)\n",
    "clfBayes.best_estimator_.alpha"
   ]
  },
  {
   "cell_type": "code",
   "execution_count": 36,
   "metadata": {},
   "outputs": [
    {
     "data": {
      "text/plain": [
       "0.7769997940631344"
      ]
     },
     "execution_count": 36,
     "metadata": {},
     "output_type": "execute_result"
    }
   ],
   "source": [
    "clfBayes.best_score_"
   ]
  },
  {
   "cell_type": "code",
   "execution_count": 37,
   "metadata": {
    "scrolled": false
   },
   "outputs": [
    {
     "data": {
      "text/plain": [
       "array([0.78575526, 0.79578418, 0.74773834])"
      ]
     },
     "execution_count": 37,
     "metadata": {},
     "output_type": "execute_result"
    }
   ],
   "source": [
    "cross_val_score(clfBayes, Sreduced, y)"
   ]
  },
  {
   "cell_type": "markdown",
   "metadata": {},
   "source": [
    "Here we obtain roughly $77.6\\%$ of generalized accuracy."
   ]
  },
  {
   "cell_type": "markdown",
   "metadata": {},
   "source": [
    "### Support Vector Machine"
   ]
  },
  {
   "cell_type": "markdown",
   "metadata": {},
   "source": [
    "#### Linear Kernel"
   ]
  },
  {
   "cell_type": "code",
   "execution_count": 38,
   "metadata": {},
   "outputs": [
    {
     "data": {
      "text/plain": [
       "0.1"
      ]
     },
     "execution_count": 38,
     "metadata": {},
     "output_type": "execute_result"
    }
   ],
   "source": [
    "## Model selection and fitting on the whole dataset through cross-validation.\n",
    "C_candidates = dict(C=np.logspace(-1, 0, 5))\n",
    "clfSVM = GridSearchCV(estimator=LinearSVC(penalty = 'l1', dual = False), param_grid=C_candidates)\n",
    "clfSVM.fit(Sreduced, y)\n",
    "clfSVM.best_estimator_.C"
   ]
  },
  {
   "cell_type": "code",
   "execution_count": 39,
   "metadata": {},
   "outputs": [
    {
     "data": {
      "text/plain": [
       "0.7963578594333794"
      ]
     },
     "execution_count": 39,
     "metadata": {},
     "output_type": "execute_result"
    }
   ],
   "source": [
    "clfSVM.best_score_"
   ]
  },
  {
   "cell_type": "code",
   "execution_count": 40,
   "metadata": {},
   "outputs": [
    {
     "data": {
      "text/plain": [
       "6548"
      ]
     },
     "execution_count": 40,
     "metadata": {},
     "output_type": "execute_result"
    }
   ],
   "source": [
    "## Number of features kept by the algorithm\n",
    "len(np.nonzero(clfSVM.best_estimator_.coef_[0])[0])"
   ]
  },
  {
   "cell_type": "code",
   "execution_count": 41,
   "metadata": {},
   "outputs": [
    {
     "name": "stderr",
     "output_type": "stream",
     "text": [
      "/home/pierre/.local/lib/python3.6/site-packages/sklearn/model_selection/_split.py:2053: FutureWarning: You should specify a value for 'cv' instead of relying on the default value. The default value will change from 3 to 5 in version 0.22.\n",
      "  warnings.warn(CV_WARNING, FutureWarning)\n",
      "/home/pierre/.local/lib/python3.6/site-packages/sklearn/model_selection/_split.py:2053: FutureWarning: You should specify a value for 'cv' instead of relying on the default value. The default value will change from 3 to 5 in version 0.22.\n",
      "  warnings.warn(CV_WARNING, FutureWarning)\n",
      "/home/pierre/.local/lib/python3.6/site-packages/sklearn/model_selection/_split.py:2053: FutureWarning: You should specify a value for 'cv' instead of relying on the default value. The default value will change from 3 to 5 in version 0.22.\n",
      "  warnings.warn(CV_WARNING, FutureWarning)\n",
      "/home/pierre/.local/lib/python3.6/site-packages/sklearn/model_selection/_split.py:2053: FutureWarning: You should specify a value for 'cv' instead of relying on the default value. The default value will change from 3 to 5 in version 0.22.\n",
      "  warnings.warn(CV_WARNING, FutureWarning)\n"
     ]
    },
    {
     "data": {
      "text/plain": [
       "array([0.82675081, 0.79907917, 0.76324267])"
      ]
     },
     "execution_count": 41,
     "metadata": {},
     "output_type": "execute_result"
    }
   ],
   "source": [
    "cross_val_score(clfSVM, Sreduced, y)"
   ]
  },
  {
   "cell_type": "markdown",
   "metadata": {},
   "source": [
    "We obtain $79.6\\%$ of mean generalized accuracy."
   ]
  },
  {
   "cell_type": "markdown",
   "metadata": {},
   "source": [
    "## Conclusion\n",
    "\n",
    "As a first step we explored the data and noticed we were in a classification task with very sparse binary inputs. From this situation, we performed feature dimensionality reduction as a preprocessing step. To do this, we deleted the least encountered newletters using the L-curve criterion on the distribution of the count of newletters by popularity, which follows a power law distribution. We, then, fitted a Naive Bayes classifier, a linear SVM and finally a Logisttic regression, with Lasso regularization to further select important features. We obtained estimators of the generalized error of roughly $80\\%$ of accuracy.\n",
    "We should also fit other SVM models with other kernels and random forest or gradient boosting to have a more comprehensive list of potential model.\n",
    "\n",
    "In our situation feature selection is important, if one cares about the interpretability of the features (understand which newletters are more responsible for gender classification than others), then our approach, or a statistical approach based on feature selection via chi-square tests for instance can be used, otherwise, we can perform SVD, PCA or t-sne."
   ]
  },
  {
   "cell_type": "code",
   "execution_count": null,
   "metadata": {},
   "outputs": [],
   "source": []
  }
 ],
 "metadata": {
  "kernelspec": {
   "display_name": "Python 3",
   "language": "python",
   "name": "python3"
  },
  "language_info": {
   "codemirror_mode": {
    "name": "ipython",
    "version": 3
   },
   "file_extension": ".py",
   "mimetype": "text/x-python",
   "name": "python",
   "nbconvert_exporter": "python",
   "pygments_lexer": "ipython3",
   "version": "3.7.3"
  }
 },
 "nbformat": 4,
 "nbformat_minor": 2
}
