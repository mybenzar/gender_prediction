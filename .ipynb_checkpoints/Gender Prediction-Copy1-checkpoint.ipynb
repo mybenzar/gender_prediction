{
 "cells": [
  {
   "cell_type": "markdown",
   "metadata": {},
   "source": [
    "# Gender Prediction Analysis @Foxintelligence"
   ]
  },
  {
   "cell_type": "markdown",
   "metadata": {},
   "source": [
    "Create a gender prediction model based on newsletters that a user has suscribed to. It's a supervised learning case study. \n",
    "\n",
    "- nl_email : newsletter ID (unique for each newsletter)\n",
    "- id : user ID\n",
    "- gender: user gender"
   ]
  },
  {
   "cell_type": "markdown",
   "metadata": {},
   "source": [
    "## Import Libraries"
   ]
  },
  {
   "cell_type": "code",
   "execution_count": 48,
   "metadata": {},
   "outputs": [],
   "source": [
    "import numpy as np\n",
    "import pandas as pd\n",
    "import sklearn\n",
    "from sklearn.preprocessing import LabelEncoder\n",
    "from sklearn.preprocessing import OneHotEncoder\n",
    "from sklearn import model_selection\n",
    "from sklearn.model_selection import train_test_split\n",
    "import time\n",
    "\n",
    "import matplotlib as mpl\n",
    "import matplotlib.pyplot as plt\n",
    "import seaborn as sns\n",
    "%matplotlib inline\n",
    "mpl.style.use('ggplot')"
   ]
  },
  {
   "cell_type": "markdown",
   "metadata": {},
   "source": [
    "## Import Modelling Libraries"
   ]
  },
  {
   "cell_type": "code",
   "execution_count": 30,
   "metadata": {},
   "outputs": [],
   "source": [
    "# Common Model Algorithms\n",
    "from sklearn import svm, tree, linear_model, neighbors, naive_bayes, ensemble, discriminant_analysis, gaussian_process\n",
    "from xgboost import XGBClassifier\n",
    "\n",
    "# Common Model Helpers\n",
    "from sklearn.preprocessing import OneHotEncoder, LabelEncoder\n",
    "from sklearn import feature_selection\n",
    "from sklearn import model_selection\n",
    "from sklearn import metrics"
   ]
  },
  {
   "cell_type": "markdown",
   "metadata": {},
   "source": [
    "## Import & Preview Data"
   ]
  },
  {
   "cell_type": "code",
   "execution_count": 31,
   "metadata": {},
   "outputs": [],
   "source": [
    "data = pd.read_csv(\"dataset_test.csv\")"
   ]
  },
  {
   "cell_type": "code",
   "execution_count": 32,
   "metadata": {},
   "outputs": [
    {
     "data": {
      "text/html": [
       "<div>\n",
       "<style scoped>\n",
       "    .dataframe tbody tr th:only-of-type {\n",
       "        vertical-align: middle;\n",
       "    }\n",
       "\n",
       "    .dataframe tbody tr th {\n",
       "        vertical-align: top;\n",
       "    }\n",
       "\n",
       "    .dataframe thead th {\n",
       "        text-align: right;\n",
       "    }\n",
       "</style>\n",
       "<table border=\"1\" class=\"dataframe\">\n",
       "  <thead>\n",
       "    <tr style=\"text-align: right;\">\n",
       "      <th></th>\n",
       "      <th>nl_email</th>\n",
       "      <th>id</th>\n",
       "      <th>gender</th>\n",
       "    </tr>\n",
       "  </thead>\n",
       "  <tbody>\n",
       "    <tr>\n",
       "      <th>8584524</th>\n",
       "      <td>824773</td>\n",
       "      <td>838442</td>\n",
       "      <td>male</td>\n",
       "    </tr>\n",
       "    <tr>\n",
       "      <th>8584525</th>\n",
       "      <td>824929</td>\n",
       "      <td>162416</td>\n",
       "      <td>male</td>\n",
       "    </tr>\n",
       "    <tr>\n",
       "      <th>8584526</th>\n",
       "      <td>824996</td>\n",
       "      <td>1081281</td>\n",
       "      <td>male</td>\n",
       "    </tr>\n",
       "    <tr>\n",
       "      <th>8584527</th>\n",
       "      <td>825044</td>\n",
       "      <td>464017</td>\n",
       "      <td>male</td>\n",
       "    </tr>\n",
       "    <tr>\n",
       "      <th>8584528</th>\n",
       "      <td>825044</td>\n",
       "      <td>566353</td>\n",
       "      <td>male</td>\n",
       "    </tr>\n",
       "    <tr>\n",
       "      <th>8584529</th>\n",
       "      <td>825044</td>\n",
       "      <td>1416067</td>\n",
       "      <td>male</td>\n",
       "    </tr>\n",
       "    <tr>\n",
       "      <th>8584530</th>\n",
       "      <td>825077</td>\n",
       "      <td>587074</td>\n",
       "      <td>male</td>\n",
       "    </tr>\n",
       "    <tr>\n",
       "      <th>8584531</th>\n",
       "      <td>825406</td>\n",
       "      <td>149592</td>\n",
       "      <td>female</td>\n",
       "    </tr>\n",
       "    <tr>\n",
       "      <th>8584532</th>\n",
       "      <td>825406</td>\n",
       "      <td>175272</td>\n",
       "      <td>male</td>\n",
       "    </tr>\n",
       "    <tr>\n",
       "      <th>8584533</th>\n",
       "      <td>825406</td>\n",
       "      <td>277218</td>\n",
       "      <td>male</td>\n",
       "    </tr>\n",
       "  </tbody>\n",
       "</table>\n",
       "</div>"
      ],
      "text/plain": [
       "         nl_email       id  gender\n",
       "8584524    824773   838442    male\n",
       "8584525    824929   162416    male\n",
       "8584526    824996  1081281    male\n",
       "8584527    825044   464017    male\n",
       "8584528    825044   566353    male\n",
       "8584529    825044  1416067    male\n",
       "8584530    825077   587074    male\n",
       "8584531    825406   149592  female\n",
       "8584532    825406   175272    male\n",
       "8584533    825406   277218    male"
      ]
     },
     "execution_count": 32,
     "metadata": {},
     "output_type": "execute_result"
    }
   ],
   "source": [
    "#data.head(10)\n",
    "data.tail(10)"
   ]
  },
  {
   "cell_type": "code",
   "execution_count": 33,
   "metadata": {},
   "outputs": [
    {
     "name": "stdout",
     "output_type": "stream",
     "text": [
      "<class 'pandas.core.frame.DataFrame'>\n",
      "RangeIndex: 8584534 entries, 0 to 8584533\n",
      "Data columns (total 3 columns):\n",
      "nl_email    int64\n",
      "id          int64\n",
      "gender      object\n",
      "dtypes: int64(2), object(1)\n",
      "memory usage: 196.5+ MB\n",
      "None\n"
     ]
    }
   ],
   "source": [
    "print(data.info())"
   ]
  },
  {
   "cell_type": "code",
   "execution_count": 34,
   "metadata": {},
   "outputs": [
    {
     "data": {
      "text/html": [
       "<div>\n",
       "<style scoped>\n",
       "    .dataframe tbody tr th:only-of-type {\n",
       "        vertical-align: middle;\n",
       "    }\n",
       "\n",
       "    .dataframe tbody tr th {\n",
       "        vertical-align: top;\n",
       "    }\n",
       "\n",
       "    .dataframe thead th {\n",
       "        text-align: right;\n",
       "    }\n",
       "</style>\n",
       "<table border=\"1\" class=\"dataframe\">\n",
       "  <thead>\n",
       "    <tr style=\"text-align: right;\">\n",
       "      <th></th>\n",
       "      <th>nl_email</th>\n",
       "      <th>id</th>\n",
       "      <th>gender</th>\n",
       "    </tr>\n",
       "  </thead>\n",
       "  <tbody>\n",
       "    <tr>\n",
       "      <th>count</th>\n",
       "      <td>8.584534e+06</td>\n",
       "      <td>8.584534e+06</td>\n",
       "      <td>8584534</td>\n",
       "    </tr>\n",
       "    <tr>\n",
       "      <th>unique</th>\n",
       "      <td>NaN</td>\n",
       "      <td>NaN</td>\n",
       "      <td>2</td>\n",
       "    </tr>\n",
       "    <tr>\n",
       "      <th>top</th>\n",
       "      <td>NaN</td>\n",
       "      <td>NaN</td>\n",
       "      <td>male</td>\n",
       "    </tr>\n",
       "    <tr>\n",
       "      <th>freq</th>\n",
       "      <td>NaN</td>\n",
       "      <td>NaN</td>\n",
       "      <td>4865002</td>\n",
       "    </tr>\n",
       "    <tr>\n",
       "      <th>mean</th>\n",
       "      <td>4.723107e+05</td>\n",
       "      <td>3.402812e+05</td>\n",
       "      <td>NaN</td>\n",
       "    </tr>\n",
       "    <tr>\n",
       "      <th>std</th>\n",
       "      <td>2.483444e+05</td>\n",
       "      <td>3.009962e+05</td>\n",
       "      <td>NaN</td>\n",
       "    </tr>\n",
       "    <tr>\n",
       "      <th>min</th>\n",
       "      <td>0.000000e+00</td>\n",
       "      <td>1.000000e+00</td>\n",
       "      <td>NaN</td>\n",
       "    </tr>\n",
       "    <tr>\n",
       "      <th>25%</th>\n",
       "      <td>2.608062e+05</td>\n",
       "      <td>1.060490e+05</td>\n",
       "      <td>NaN</td>\n",
       "    </tr>\n",
       "    <tr>\n",
       "      <th>50%</th>\n",
       "      <td>5.033195e+05</td>\n",
       "      <td>2.598260e+05</td>\n",
       "      <td>NaN</td>\n",
       "    </tr>\n",
       "    <tr>\n",
       "      <th>75%</th>\n",
       "      <td>7.233560e+05</td>\n",
       "      <td>4.896950e+05</td>\n",
       "      <td>NaN</td>\n",
       "    </tr>\n",
       "    <tr>\n",
       "      <th>max</th>\n",
       "      <td>8.254080e+05</td>\n",
       "      <td>1.561001e+06</td>\n",
       "      <td>NaN</td>\n",
       "    </tr>\n",
       "  </tbody>\n",
       "</table>\n",
       "</div>"
      ],
      "text/plain": [
       "            nl_email            id   gender\n",
       "count   8.584534e+06  8.584534e+06  8584534\n",
       "unique           NaN           NaN        2\n",
       "top              NaN           NaN     male\n",
       "freq             NaN           NaN  4865002\n",
       "mean    4.723107e+05  3.402812e+05      NaN\n",
       "std     2.483444e+05  3.009962e+05      NaN\n",
       "min     0.000000e+00  1.000000e+00      NaN\n",
       "25%     2.608062e+05  1.060490e+05      NaN\n",
       "50%     5.033195e+05  2.598260e+05      NaN\n",
       "75%     7.233560e+05  4.896950e+05      NaN\n",
       "max     8.254080e+05  1.561001e+06      NaN"
      ]
     },
     "execution_count": 34,
     "metadata": {},
     "output_type": "execute_result"
    }
   ],
   "source": [
    "data.describe(include='all')"
   ]
  },
  {
   "cell_type": "code",
   "execution_count": 35,
   "metadata": {},
   "outputs": [],
   "source": [
    "#create a work version of dataset\n",
    "data_w = data.copy(deep = True)"
   ]
  },
  {
   "cell_type": "code",
   "execution_count": 36,
   "metadata": {},
   "outputs": [
    {
     "name": "stdout",
     "output_type": "stream",
     "text": [
      "nl_email    0\n",
      "id          0\n",
      "gender      0\n",
      "dtype: int64\n"
     ]
    }
   ],
   "source": [
    "# Look for null values\n",
    "print(data_w.isnull().sum())"
   ]
  },
  {
   "cell_type": "markdown",
   "metadata": {},
   "source": [
    "##### -->no missing values, data appears to be clean"
   ]
  },
  {
   "cell_type": "markdown",
   "metadata": {},
   "source": [
    "## Convert Formats"
   ]
  },
  {
   "cell_type": "code",
   "execution_count": 37,
   "metadata": {},
   "outputs": [],
   "source": [
    "# Code categorical data : gender_code (male is '1' and female is '0'), nl_code and id_code\n",
    "# https://scikit-learn.org/stable/modules/generated/sklearn.preprocessing.LabelEncoder.html\n",
    "label = LabelEncoder()\n",
    "data_w['nl_code'] = label.fit_transform(data_w['nl_email'])\n",
    "data_w['id_code'] = label.fit_transform(data_w['id'])\n",
    "data_w['gender_code'] = label.fit_transform(data_w['gender'])"
   ]
  },
  {
   "cell_type": "code",
   "execution_count": 38,
   "metadata": {},
   "outputs": [],
   "source": [
    "# Define target variable and delete categorical column\n",
    "Target = ['gender_code']\n",
    "data_w = data_w.drop(columns = ['gender', 'nl_email', 'id'])"
   ]
  },
  {
   "cell_type": "code",
   "execution_count": 39,
   "metadata": {},
   "outputs": [
    {
     "name": "stdout",
     "output_type": "stream",
     "text": [
      "X shape = (8584534, 2)\n",
      "Y shape = (8584534,) \n",
      "\n",
      "----------\n",
      "\n",
      "\n",
      "X: \n",
      "    nl_code  id_code\n",
      "0        0    23652\n",
      "1    62788    23652\n",
      "2    89982    23652\n",
      "3   159185    23652\n",
      "4   176642    23652 \n",
      "\n",
      "Y:\n",
      " 0    1\n",
      "1    1\n",
      "2    1\n",
      "3    1\n",
      "4    1\n",
      "Name: gender_code, dtype: int64\n"
     ]
    }
   ],
   "source": [
    "# Define X and Y variables for later split\n",
    "# reminder : always convert the target with data.target or else the shape won't be adequate\n",
    "X = data_w.drop(columns = ['gender_code'])\n",
    "Y = data_w.gender_code\n",
    "\n",
    "print('X shape =', X.shape)\n",
    "print('Y shape =', Y.shape, '\\n')\n",
    "print('-' * 10)\n",
    "print ('\\n')\n",
    "print ('X: \\n', X.head(), '\\n')\n",
    "print('Y:\\n', Y.head())"
   ]
  },
  {
   "cell_type": "markdown",
   "metadata": {},
   "source": [
    "## Split Training and Testing Data"
   ]
  },
  {
   "cell_type": "code",
   "execution_count": 40,
   "metadata": {},
   "outputs": [],
   "source": [
    "X_train, X_test, y_train, y_test = \\\n",
    "train_test_split(X, Y, test_size=0.1)"
   ]
  },
  {
   "cell_type": "markdown",
   "metadata": {},
   "source": [
    "## Feature Reduction"
   ]
  },
  {
   "cell_type": "code",
   "execution_count": 41,
   "metadata": {},
   "outputs": [
    {
     "name": "stdout",
     "output_type": "stream",
     "text": [
      "         nb_users\n",
      "nl_code          \n",
      "728929      81792\n",
      "577008      74552\n",
      "593870      73961\n",
      "110810      70888\n",
      "159157      68377\n",
      "\n",
      "\n",
      "----------\n",
      "\n",
      "\n",
      "         nb_users\n",
      "nl_code          \n",
      "167121          1\n",
      "453352          1\n",
      "167123          1\n",
      "453350          1\n",
      "825408          1\n"
     ]
    },
    {
     "data": {
      "text/html": [
       "<div>\n",
       "<style scoped>\n",
       "    .dataframe tbody tr th:only-of-type {\n",
       "        vertical-align: middle;\n",
       "    }\n",
       "\n",
       "    .dataframe tbody tr th {\n",
       "        vertical-align: top;\n",
       "    }\n",
       "\n",
       "    .dataframe thead th {\n",
       "        text-align: right;\n",
       "    }\n",
       "</style>\n",
       "<table border=\"1\" class=\"dataframe\">\n",
       "  <thead>\n",
       "    <tr style=\"text-align: right;\">\n",
       "      <th></th>\n",
       "      <th>nb_users</th>\n",
       "    </tr>\n",
       "  </thead>\n",
       "  <tbody>\n",
       "    <tr>\n",
       "      <th>count</th>\n",
       "      <td>825409.00000</td>\n",
       "    </tr>\n",
       "    <tr>\n",
       "      <th>mean</th>\n",
       "      <td>10.40034</td>\n",
       "    </tr>\n",
       "    <tr>\n",
       "      <th>std</th>\n",
       "      <td>299.58956</td>\n",
       "    </tr>\n",
       "    <tr>\n",
       "      <th>min</th>\n",
       "      <td>1.00000</td>\n",
       "    </tr>\n",
       "    <tr>\n",
       "      <th>25%</th>\n",
       "      <td>1.00000</td>\n",
       "    </tr>\n",
       "    <tr>\n",
       "      <th>50%</th>\n",
       "      <td>1.00000</td>\n",
       "    </tr>\n",
       "    <tr>\n",
       "      <th>75%</th>\n",
       "      <td>2.00000</td>\n",
       "    </tr>\n",
       "    <tr>\n",
       "      <th>max</th>\n",
       "      <td>81792.00000</td>\n",
       "    </tr>\n",
       "  </tbody>\n",
       "</table>\n",
       "</div>"
      ],
      "text/plain": [
       "           nb_users\n",
       "count  825409.00000\n",
       "mean       10.40034\n",
       "std       299.58956\n",
       "min         1.00000\n",
       "25%         1.00000\n",
       "50%         1.00000\n",
       "75%         2.00000\n",
       "max     81792.00000"
      ]
     },
     "execution_count": 41,
     "metadata": {},
     "output_type": "execute_result"
    }
   ],
   "source": [
    "# Group Newsletters by users\n",
    "users_by_nl = data_w['id_code'].groupby(data_w['nl_code']).count()\n",
    "users_by_nl = pd.DataFrame(users_by_nl)\n",
    "users_by_nl.columns = ['nb_users']\n",
    "\n",
    "# Sort Descending\n",
    "users_by_nl.sort_values(by='nb_users', ascending=False, inplace=True)\n",
    "\n",
    "print (users_by_nl.head())\n",
    "print ('\\n')\n",
    "print ('-'*10)\n",
    "print ('\\n')\n",
    "print (users_by_nl.tail())\n",
    "users_by_nl.describe(include='all')"
   ]
  },
  {
   "cell_type": "markdown",
   "metadata": {},
   "source": [
    "##### On average, users subscribe to 10 newsletters. We can remove newsletters that have less than 10 subcribers since they are not representative of the gender split"
   ]
  },
  {
   "cell_type": "code",
   "execution_count": 42,
   "metadata": {},
   "outputs": [
    {
     "data": {
      "text/html": [
       "<div>\n",
       "<style scoped>\n",
       "    .dataframe tbody tr th:only-of-type {\n",
       "        vertical-align: middle;\n",
       "    }\n",
       "\n",
       "    .dataframe tbody tr th {\n",
       "        vertical-align: top;\n",
       "    }\n",
       "\n",
       "    .dataframe thead th {\n",
       "        text-align: right;\n",
       "    }\n",
       "</style>\n",
       "<table border=\"1\" class=\"dataframe\">\n",
       "  <thead>\n",
       "    <tr style=\"text-align: right;\">\n",
       "      <th></th>\n",
       "      <th>nb_users</th>\n",
       "    </tr>\n",
       "  </thead>\n",
       "  <tbody>\n",
       "    <tr>\n",
       "      <th>count</th>\n",
       "      <td>63764.000000</td>\n",
       "    </tr>\n",
       "    <tr>\n",
       "      <th>mean</th>\n",
       "      <td>113.986968</td>\n",
       "    </tr>\n",
       "    <tr>\n",
       "      <th>std</th>\n",
       "      <td>1072.474806</td>\n",
       "    </tr>\n",
       "    <tr>\n",
       "      <th>min</th>\n",
       "      <td>10.000000</td>\n",
       "    </tr>\n",
       "    <tr>\n",
       "      <th>25%</th>\n",
       "      <td>14.000000</td>\n",
       "    </tr>\n",
       "    <tr>\n",
       "      <th>50%</th>\n",
       "      <td>23.000000</td>\n",
       "    </tr>\n",
       "    <tr>\n",
       "      <th>75%</th>\n",
       "      <td>56.000000</td>\n",
       "    </tr>\n",
       "    <tr>\n",
       "      <th>max</th>\n",
       "      <td>81792.000000</td>\n",
       "    </tr>\n",
       "  </tbody>\n",
       "</table>\n",
       "</div>"
      ],
      "text/plain": [
       "           nb_users\n",
       "count  63764.000000\n",
       "mean     113.986968\n",
       "std     1072.474806\n",
       "min       10.000000\n",
       "25%       14.000000\n",
       "50%       23.000000\n",
       "75%       56.000000\n",
       "max    81792.000000"
      ]
     },
     "execution_count": 42,
     "metadata": {},
     "output_type": "execute_result"
    }
   ],
   "source": [
    "# Delete newsletters that only have 1 or 2 subscribers\n",
    "users_by_nl = users_by_nl[users_by_nl['nb_users'] >= 10]\n",
    "\n",
    "users_by_nl.describe(include='all')"
   ]
  },
  {
   "cell_type": "code",
   "execution_count": 43,
   "metadata": {},
   "outputs": [
    {
     "name": "stdout",
     "output_type": "stream",
     "text": [
      "   nl_code  id_code  gender_code  nb_users\n",
      "0    89982    23652            1      3190\n",
      "1    89982    16503            0      3190\n",
      "2    89982   104756            0      3190\n",
      "3    89982   142738            0      3190\n",
      "4    89982     9101            1      3190\n"
     ]
    }
   ],
   "source": [
    "# Now we apply this feature reduction to our dataset data_w\n",
    "data_w = pd.merge(data_w, users_by_nl, on='nl_code')\n",
    "\n",
    "print (data_w.head())"
   ]
  },
  {
   "cell_type": "code",
   "execution_count": 44,
   "metadata": {},
   "outputs": [
    {
     "name": "stdout",
     "output_type": "stream",
     "text": [
      "number of nl_code in new data set: 63764\n",
      "number of nl_code after dropping the irrelevant ones: 63764\n"
     ]
    }
   ],
   "source": [
    "# quick verification to make sure the merge was successful\n",
    "print (\"number of nl_code in new data set:\", len(set(data_w.nl_code)))\n",
    "print (\"number of nl_code after dropping the irrelevant ones:\", len(set(users_by_nl.index)))"
   ]
  },
  {
   "cell_type": "markdown",
   "metadata": {},
   "source": [
    "## Exploratory Analysis "
   ]
  },
  {
   "cell_type": "code",
   "execution_count": 45,
   "metadata": {},
   "outputs": [
    {
     "data": {
      "text/html": [
       "<div>\n",
       "<style scoped>\n",
       "    .dataframe tbody tr th:only-of-type {\n",
       "        vertical-align: middle;\n",
       "    }\n",
       "\n",
       "    .dataframe tbody tr th {\n",
       "        vertical-align: top;\n",
       "    }\n",
       "\n",
       "    .dataframe thead th {\n",
       "        text-align: right;\n",
       "    }\n",
       "</style>\n",
       "<table border=\"1\" class=\"dataframe\">\n",
       "  <thead>\n",
       "    <tr style=\"text-align: right;\">\n",
       "      <th>gender_code</th>\n",
       "      <th>0</th>\n",
       "      <th>1</th>\n",
       "    </tr>\n",
       "    <tr>\n",
       "      <th>nl_code</th>\n",
       "      <th></th>\n",
       "      <th></th>\n",
       "    </tr>\n",
       "  </thead>\n",
       "  <tbody>\n",
       "    <tr>\n",
       "      <th>1</th>\n",
       "      <td>28</td>\n",
       "      <td>5</td>\n",
       "    </tr>\n",
       "    <tr>\n",
       "      <th>4</th>\n",
       "      <td>11</td>\n",
       "      <td>17</td>\n",
       "    </tr>\n",
       "    <tr>\n",
       "      <th>5</th>\n",
       "      <td>9</td>\n",
       "      <td>3</td>\n",
       "    </tr>\n",
       "    <tr>\n",
       "      <th>13</th>\n",
       "      <td>73</td>\n",
       "      <td>69</td>\n",
       "    </tr>\n",
       "    <tr>\n",
       "      <th>15</th>\n",
       "      <td>6</td>\n",
       "      <td>24</td>\n",
       "    </tr>\n",
       "  </tbody>\n",
       "</table>\n",
       "</div>"
      ],
      "text/plain": [
       "gender_code   0   1\n",
       "nl_code            \n",
       "1            28   5\n",
       "4            11  17\n",
       "5             9   3\n",
       "13           73  69\n",
       "15            6  24"
      ]
     },
     "execution_count": 45,
     "metadata": {},
     "output_type": "execute_result"
    }
   ],
   "source": [
    "# Let's look at correlations by gender\n",
    "crosstab_nl = pd.crosstab(data_w['nl_code'],data_w[Target[0]])\n",
    "crosstab_nl.head()"
   ]
  },
  {
   "cell_type": "code",
   "execution_count": 46,
   "metadata": {},
   "outputs": [
    {
     "name": "stdout",
     "output_type": "stream",
     "text": [
      "         female  male  nb_users\n",
      "nl_code                        \n",
      "1            28     5        33\n",
      "4            11    17        28\n",
      "5             9     3        12\n",
      "13           73    69       142\n",
      "15            6    24        30\n",
      "18            7     8        15\n",
      "43            5     6        11\n",
      "49            3    19        22\n",
      "50            5    13        18\n",
      "73            8     4        12\n",
      "77            6    23        29\n",
      "86            2    16        18\n",
      "93            5    18        23\n",
      "105           5    17        22\n",
      "108           5     7        12\n",
      "111          14     8        22\n",
      "121          41    89       130\n",
      "125          12     7        19\n",
      "155           1    14        15\n",
      "186           9    19        28\n",
      "198          12    12        24\n",
      "204          13    14        27\n",
      "231           3     7        10\n",
      "237          11    20        31\n",
      "240          12    23        35\n",
      "252           9     4        13\n",
      "268           1    11        12\n",
      "294           3     7        10\n",
      "300           4    67        71\n",
      "302           8    66        74\n",
      "...         ...   ...       ...\n",
      "825296       19    18        37\n",
      "825302        4    32        36\n",
      "825321        2     9        11\n",
      "825324       36    36        72\n",
      "825325      125    99       224\n",
      "825326        7     4        11\n",
      "825327       28    37        65\n",
      "825328      120    71       191\n",
      "825329       92    57       149\n",
      "825331       19     4        23\n",
      "825333        3     9        12\n",
      "825337       23    29        52\n",
      "825348       40    19        59\n",
      "825351       12     7        19\n",
      "825352        8     7        15\n",
      "825356       35    39        74\n",
      "825357       23    72        95\n",
      "825359        3    12        15\n",
      "825366        5     7        12\n",
      "825370       14    22        36\n",
      "825372       22    45        67\n",
      "825382        5     9        14\n",
      "825387        3     7        10\n",
      "825388        8    18        26\n",
      "825393        3     8        11\n",
      "825398        4     7        11\n",
      "825399        2    19        21\n",
      "825403        1    10        11\n",
      "825405       13    13        26\n",
      "825406       81  1199      1280\n",
      "\n",
      "[63764 rows x 3 columns]\n",
      "\n",
      "\n",
      "----------\n",
      "\n",
      "\n",
      "             female          male      nb_users\n",
      "count  63764.000000  63764.000000  63764.000000\n",
      "mean      50.681968     63.305000    113.986968\n",
      "std      471.239921    616.537918   1072.474806\n",
      "min        0.000000      0.000000     10.000000\n",
      "25%        4.000000      8.000000     14.000000\n",
      "50%        9.000000     14.000000     23.000000\n",
      "75%       22.000000     33.000000     56.000000\n",
      "max    32708.000000  49084.000000  81792.000000\n"
     ]
    }
   ],
   "source": [
    "# Merge data\n",
    "crosstab = pd.merge(crosstab_nl, users_by_nl, on='nl_code')\n",
    "crosstab.columns = ['female', 'male', 'nb_users']\n",
    "print(crosstab)\n",
    "print('\\n')\n",
    "print(\"-\"*10)\n",
    "print('\\n')\n",
    "print(crosstab.describe(include='all'))"
   ]
  },
  {
   "cell_type": "code",
   "execution_count": 47,
   "metadata": {},
   "outputs": [],
   "source": [
    "# Convert to precentage\n",
    "#start = time.time()\n",
    "#for col in range(2):\n",
    "#    for row in range(crosstab_nl.shape[0]):\n",
    "#        crosstab_nl[col][row] = (crosstab_nl[col][row] / (crosstab_nl[0][row] + crosstab_nl[1][row])) * 100.\n",
    "#end = time.time()\n",
    "#print(end - start)"
   ]
  },
  {
   "cell_type": "markdown",
   "metadata": {},
   "source": [
    "## Modelling "
   ]
  },
  {
   "cell_type": "markdown",
   "metadata": {},
   "source": [
    "##### Knowing we are in a supervised learning context and that the variable we are trying to predict is discrete, we can use a classification algorithm. "
   ]
  },
  {
   "cell_type": "markdown",
   "metadata": {},
   "source": [
    "###### --> Logistic Regression"
   ]
  },
  {
   "cell_type": "code",
   "execution_count": 50,
   "metadata": {},
   "outputs": [
    {
     "name": "stderr",
     "output_type": "stream",
     "text": [
      "/goinfre/miniconda/lib/python3.7/site-packages/sklearn/linear_model/logistic.py:432: FutureWarning: Default solver will be changed to 'lbfgs' in 0.22. Specify a solver to silence this warning.\n",
      "  FutureWarning)\n"
     ]
    },
    {
     "data": {
      "text/plain": [
       "LogisticRegression(C=1.0, class_weight=None, dual=False, fit_intercept=True,\n",
       "                   intercept_scaling=1, l1_ratio=None, max_iter=100,\n",
       "                   multi_class='warn', n_jobs=None, penalty='l2',\n",
       "                   random_state=None, solver='warn', tol=0.0001, verbose=0,\n",
       "                   warm_start=False)"
      ]
     },
     "execution_count": 50,
     "metadata": {},
     "output_type": "execute_result"
    }
   ],
   "source": [
    "#apply Logistic Regression\n",
    "# values.ravel: https://stackoverflow.com/questions/34165731/a-column-vector-y-was-passed-when-a-1d-array-was-expected\n",
    "model = linear_model.LogisticRegression()\n",
    "model.fit(X_train, y_train.values.ravel())"
   ]
  },
  {
   "cell_type": "code",
   "execution_count": 51,
   "metadata": {},
   "outputs": [],
   "source": [
    "y_predicted = model.predict(X_test)"
   ]
  },
  {
   "cell_type": "code",
   "execution_count": 52,
   "metadata": {},
   "outputs": [
    {
     "name": "stdout",
     "output_type": "stream",
     "text": [
      "[1 1 1 ... 1 1 1]\n"
     ]
    },
    {
     "data": {
      "text/plain": [
       "array([1])"
      ]
     },
     "execution_count": 52,
     "metadata": {},
     "output_type": "execute_result"
    }
   ],
   "source": [
    "print(y_predicted)\n",
    "np.unique(y_predicted)"
   ]
  },
  {
   "cell_type": "code",
   "execution_count": 53,
   "metadata": {
    "scrolled": true
   },
   "outputs": [
    {
     "data": {
      "text/plain": [
       "array([[0.46134239, 0.53865761],\n",
       "       [0.41110786, 0.58889214],\n",
       "       [0.4611337 , 0.5388663 ],\n",
       "       ...,\n",
       "       [0.45598247, 0.54401753],\n",
       "       [0.48929777, 0.51070223],\n",
       "       [0.46861618, 0.53138382]])"
      ]
     },
     "execution_count": 53,
     "metadata": {},
     "output_type": "execute_result"
    }
   ],
   "source": [
    "model.predict_proba(X_test)"
   ]
  },
  {
   "cell_type": "code",
   "execution_count": 54,
   "metadata": {},
   "outputs": [
    {
     "data": {
      "text/plain": [
       "0.5671055175932549"
      ]
     },
     "execution_count": 54,
     "metadata": {},
     "output_type": "execute_result"
    }
   ],
   "source": [
    "model.score(X_test,y_test)"
   ]
  },
  {
   "cell_type": "markdown",
   "metadata": {},
   "source": [
    "##### Logistic Regression always predicts male for gender and scores 57%. Let's find out if there is a better model."
   ]
  },
  {
   "cell_type": "markdown",
   "metadata": {},
   "source": [
    "###### --> Random Forest"
   ]
  },
  {
   "cell_type": "code",
   "execution_count": 55,
   "metadata": {},
   "outputs": [
    {
     "name": "stderr",
     "output_type": "stream",
     "text": [
      "/goinfre/miniconda/lib/python3.7/site-packages/sklearn/ensemble/forest.py:245: FutureWarning: The default value of n_estimators will change from 10 in version 0.20 to 100 in 0.22.\n",
      "  \"10 in version 0.20 to 100 in 0.22.\", FutureWarning)\n"
     ]
    },
    {
     "data": {
      "text/plain": [
       "RandomForestClassifier(bootstrap=True, class_weight=None, criterion='gini',\n",
       "                       max_depth=None, max_features='auto', max_leaf_nodes=None,\n",
       "                       min_impurity_decrease=0.0, min_impurity_split=None,\n",
       "                       min_samples_leaf=1, min_samples_split=2,\n",
       "                       min_weight_fraction_leaf=0.0, n_estimators=10,\n",
       "                       n_jobs=None, oob_score=False, random_state=None,\n",
       "                       verbose=0, warm_start=False)"
      ]
     },
     "execution_count": 55,
     "metadata": {},
     "output_type": "execute_result"
    }
   ],
   "source": [
    "#apply Random Forest\n",
    "model = ensemble.RandomForestClassifier()\n",
    "model.fit(X_train, y_train.values.ravel())"
   ]
  },
  {
   "cell_type": "code",
   "execution_count": 26,
   "metadata": {},
   "outputs": [
    {
     "name": "stdout",
     "output_type": "stream",
     "text": [
      "[1 0 0 ... 0 1 1]\n"
     ]
    },
    {
     "data": {
      "text/plain": [
       "array([[0.2, 0.8],\n",
       "       [0.7, 0.3],\n",
       "       [1. , 0. ],\n",
       "       ...,\n",
       "       [0.7, 0.3],\n",
       "       [0.2, 0.8],\n",
       "       [0. , 1. ]])"
      ]
     },
     "execution_count": 26,
     "metadata": {},
     "output_type": "execute_result"
    }
   ],
   "source": [
    "y_predicted = model.predict(X_test)\n",
    "print(y_predicted)\n",
    "print('unique values = ', np.unique(y_predicted))\n",
    "model.predict_proba(X_test)"
   ]
  },
  {
   "cell_type": "code",
   "execution_count": 56,
   "metadata": {},
   "outputs": [
    {
     "data": {
      "text/plain": [
       "0.7157087042520625"
      ]
     },
     "execution_count": 56,
     "metadata": {},
     "output_type": "execute_result"
    }
   ],
   "source": [
    "model.score(X_test,y_test)"
   ]
  },
  {
   "cell_type": "markdown",
   "metadata": {},
   "source": [
    "###### --> Naive Bayes"
   ]
  },
  {
   "cell_type": "code",
   "execution_count": 57,
   "metadata": {},
   "outputs": [
    {
     "data": {
      "text/plain": [
       "GaussianNB(priors=None, var_smoothing=1e-09)"
      ]
     },
     "execution_count": 57,
     "metadata": {},
     "output_type": "execute_result"
    }
   ],
   "source": [
    "#apply Naive Bayes\n",
    "model = naive_bayes.GaussianNB()\n",
    "model.fit(X_train, y_train.values.ravel())"
   ]
  },
  {
   "cell_type": "code",
   "execution_count": 60,
   "metadata": {},
   "outputs": [
    {
     "name": "stdout",
     "output_type": "stream",
     "text": [
      "[1 1 1 ... 1 1 1]\n",
      "[1]\n"
     ]
    },
    {
     "data": {
      "text/plain": [
       "array([[0.43772649, 0.56227351],\n",
       "       [0.45192186, 0.54807814],\n",
       "       [0.40078035, 0.59921965],\n",
       "       ...,\n",
       "       [0.45260204, 0.54739796],\n",
       "       [0.41992624, 0.58007376],\n",
       "       [0.44612696, 0.55387304]])"
      ]
     },
     "execution_count": 60,
     "metadata": {},
     "output_type": "execute_result"
    }
   ],
   "source": [
    "y_predicted = model.predict(X_test)\n",
    "print(y_predicted)\n",
    "print ('unique values = ', np.unique(y_predicted))\n",
    "model.predict_proba(X_test)"
   ]
  },
  {
   "cell_type": "code",
   "execution_count": 59,
   "metadata": {},
   "outputs": [
    {
     "data": {
      "text/plain": [
       "0.5671055175932549"
      ]
     },
     "execution_count": 59,
     "metadata": {},
     "output_type": "execute_result"
    }
   ],
   "source": [
    "model.score(X_test,y_test)"
   ]
  },
  {
   "cell_type": "code",
   "execution_count": null,
   "metadata": {},
   "outputs": [],
   "source": []
  }
 ],
 "metadata": {
  "kernelspec": {
   "display_name": "Python 3",
   "language": "python",
   "name": "python3"
  },
  "language_info": {
   "codemirror_mode": {
    "name": "ipython",
    "version": 3
   },
   "file_extension": ".py",
   "mimetype": "text/x-python",
   "name": "python",
   "nbconvert_exporter": "python",
   "pygments_lexer": "ipython3",
   "version": "3.7.3"
  }
 },
 "nbformat": 4,
 "nbformat_minor": 2
}
