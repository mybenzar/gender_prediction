{
 "cells": [
  {
   "cell_type": "markdown",
   "metadata": {},
   "source": [
    "# Gender Prediction Analysis @Foxintelligence"
   ]
  },
  {
   "cell_type": "markdown",
   "metadata": {},
   "source": [
    "Create a gender prediction model based on newsletters that a user has suscribed to. It's a supervised learning case study. \n",
    "\n",
    "- nl_email : newsletter ID (unique for each newsletter)\n",
    "- id : user ID\n",
    "- gender: user gender"
   ]
  },
  {
   "cell_type": "markdown",
   "metadata": {},
   "source": [
    "## Import Libraries"
   ]
  },
  {
   "cell_type": "code",
   "execution_count": 1,
   "metadata": {},
   "outputs": [],
   "source": [
    "import numpy as np\n",
    "import pandas as pd\n",
    "import sklearn\n",
    "from sklearn.preprocessing import LabelEncoder\n",
    "from sklearn.preprocessing import OneHotEncoder\n",
    "from sklearn import model_selection\n",
    "from sklearn.model_selection import train_test_split\n",
    "import time\n",
    "\n",
    "import matplotlib as mpl\n",
    "import matplotlib.pyplot as plt\n",
    "import seaborn as sns\n",
    "%matplotlib inline\n",
    "mpl.style.use('ggplot')"
   ]
  },
  {
   "cell_type": "markdown",
   "metadata": {},
   "source": [
    "## Import Modelling Libraries"
   ]
  },
  {
   "cell_type": "code",
   "execution_count": 2,
   "metadata": {},
   "outputs": [],
   "source": [
    "# Common Model Algorithms\n",
    "from sklearn import svm, tree, linear_model, neighbors, naive_bayes, ensemble, discriminant_analysis, gaussian_process\n",
    "from xgboost import XGBClassifier\n",
    "\n",
    "# Common Model Helpers\n",
    "from sklearn.preprocessing import OneHotEncoder, LabelEncoder\n",
    "from sklearn import feature_selection\n",
    "from sklearn import model_selection\n",
    "from sklearn import metrics"
   ]
  },
  {
   "cell_type": "markdown",
   "metadata": {},
   "source": [
    "## Import & Preview Data"
   ]
  },
  {
   "cell_type": "code",
   "execution_count": 3,
   "metadata": {},
   "outputs": [],
   "source": [
    "data = pd.read_csv(\"dataset_test.csv\")"
   ]
  },
  {
   "cell_type": "code",
   "execution_count": 4,
   "metadata": {},
   "outputs": [
    {
     "data": {
      "text/html": [
       "<div>\n",
       "<style scoped>\n",
       "    .dataframe tbody tr th:only-of-type {\n",
       "        vertical-align: middle;\n",
       "    }\n",
       "\n",
       "    .dataframe tbody tr th {\n",
       "        vertical-align: top;\n",
       "    }\n",
       "\n",
       "    .dataframe thead th {\n",
       "        text-align: right;\n",
       "    }\n",
       "</style>\n",
       "<table border=\"1\" class=\"dataframe\">\n",
       "  <thead>\n",
       "    <tr style=\"text-align: right;\">\n",
       "      <th></th>\n",
       "      <th>nl_email</th>\n",
       "      <th>id</th>\n",
       "      <th>gender</th>\n",
       "    </tr>\n",
       "  </thead>\n",
       "  <tbody>\n",
       "    <tr>\n",
       "      <th>8584524</th>\n",
       "      <td>824773</td>\n",
       "      <td>838442</td>\n",
       "      <td>male</td>\n",
       "    </tr>\n",
       "    <tr>\n",
       "      <th>8584525</th>\n",
       "      <td>824929</td>\n",
       "      <td>162416</td>\n",
       "      <td>male</td>\n",
       "    </tr>\n",
       "    <tr>\n",
       "      <th>8584526</th>\n",
       "      <td>824996</td>\n",
       "      <td>1081281</td>\n",
       "      <td>male</td>\n",
       "    </tr>\n",
       "    <tr>\n",
       "      <th>8584527</th>\n",
       "      <td>825044</td>\n",
       "      <td>464017</td>\n",
       "      <td>male</td>\n",
       "    </tr>\n",
       "    <tr>\n",
       "      <th>8584528</th>\n",
       "      <td>825044</td>\n",
       "      <td>566353</td>\n",
       "      <td>male</td>\n",
       "    </tr>\n",
       "    <tr>\n",
       "      <th>8584529</th>\n",
       "      <td>825044</td>\n",
       "      <td>1416067</td>\n",
       "      <td>male</td>\n",
       "    </tr>\n",
       "    <tr>\n",
       "      <th>8584530</th>\n",
       "      <td>825077</td>\n",
       "      <td>587074</td>\n",
       "      <td>male</td>\n",
       "    </tr>\n",
       "    <tr>\n",
       "      <th>8584531</th>\n",
       "      <td>825406</td>\n",
       "      <td>149592</td>\n",
       "      <td>female</td>\n",
       "    </tr>\n",
       "    <tr>\n",
       "      <th>8584532</th>\n",
       "      <td>825406</td>\n",
       "      <td>175272</td>\n",
       "      <td>male</td>\n",
       "    </tr>\n",
       "    <tr>\n",
       "      <th>8584533</th>\n",
       "      <td>825406</td>\n",
       "      <td>277218</td>\n",
       "      <td>male</td>\n",
       "    </tr>\n",
       "  </tbody>\n",
       "</table>\n",
       "</div>"
      ],
      "text/plain": [
       "         nl_email       id  gender\n",
       "8584524    824773   838442    male\n",
       "8584525    824929   162416    male\n",
       "8584526    824996  1081281    male\n",
       "8584527    825044   464017    male\n",
       "8584528    825044   566353    male\n",
       "8584529    825044  1416067    male\n",
       "8584530    825077   587074    male\n",
       "8584531    825406   149592  female\n",
       "8584532    825406   175272    male\n",
       "8584533    825406   277218    male"
      ]
     },
     "execution_count": 4,
     "metadata": {},
     "output_type": "execute_result"
    }
   ],
   "source": [
    "#data.head(10)\n",
    "data.tail(10)"
   ]
  },
  {
   "cell_type": "code",
   "execution_count": 5,
   "metadata": {},
   "outputs": [
    {
     "name": "stdout",
     "output_type": "stream",
     "text": [
      "<class 'pandas.core.frame.DataFrame'>\n",
      "RangeIndex: 8584534 entries, 0 to 8584533\n",
      "Data columns (total 3 columns):\n",
      "nl_email    int64\n",
      "id          int64\n",
      "gender      object\n",
      "dtypes: int64(2), object(1)\n",
      "memory usage: 196.5+ MB\n",
      "None\n"
     ]
    }
   ],
   "source": [
    "print(data.info())"
   ]
  },
  {
   "cell_type": "code",
   "execution_count": 6,
   "metadata": {},
   "outputs": [
    {
     "data": {
      "text/html": [
       "<div>\n",
       "<style scoped>\n",
       "    .dataframe tbody tr th:only-of-type {\n",
       "        vertical-align: middle;\n",
       "    }\n",
       "\n",
       "    .dataframe tbody tr th {\n",
       "        vertical-align: top;\n",
       "    }\n",
       "\n",
       "    .dataframe thead th {\n",
       "        text-align: right;\n",
       "    }\n",
       "</style>\n",
       "<table border=\"1\" class=\"dataframe\">\n",
       "  <thead>\n",
       "    <tr style=\"text-align: right;\">\n",
       "      <th></th>\n",
       "      <th>nl_email</th>\n",
       "      <th>id</th>\n",
       "      <th>gender</th>\n",
       "    </tr>\n",
       "  </thead>\n",
       "  <tbody>\n",
       "    <tr>\n",
       "      <th>count</th>\n",
       "      <td>8.584534e+06</td>\n",
       "      <td>8.584534e+06</td>\n",
       "      <td>8584534</td>\n",
       "    </tr>\n",
       "    <tr>\n",
       "      <th>unique</th>\n",
       "      <td>NaN</td>\n",
       "      <td>NaN</td>\n",
       "      <td>2</td>\n",
       "    </tr>\n",
       "    <tr>\n",
       "      <th>top</th>\n",
       "      <td>NaN</td>\n",
       "      <td>NaN</td>\n",
       "      <td>male</td>\n",
       "    </tr>\n",
       "    <tr>\n",
       "      <th>freq</th>\n",
       "      <td>NaN</td>\n",
       "      <td>NaN</td>\n",
       "      <td>4865002</td>\n",
       "    </tr>\n",
       "    <tr>\n",
       "      <th>mean</th>\n",
       "      <td>4.723107e+05</td>\n",
       "      <td>3.402812e+05</td>\n",
       "      <td>NaN</td>\n",
       "    </tr>\n",
       "    <tr>\n",
       "      <th>std</th>\n",
       "      <td>2.483444e+05</td>\n",
       "      <td>3.009962e+05</td>\n",
       "      <td>NaN</td>\n",
       "    </tr>\n",
       "    <tr>\n",
       "      <th>min</th>\n",
       "      <td>0.000000e+00</td>\n",
       "      <td>1.000000e+00</td>\n",
       "      <td>NaN</td>\n",
       "    </tr>\n",
       "    <tr>\n",
       "      <th>25%</th>\n",
       "      <td>2.608062e+05</td>\n",
       "      <td>1.060490e+05</td>\n",
       "      <td>NaN</td>\n",
       "    </tr>\n",
       "    <tr>\n",
       "      <th>50%</th>\n",
       "      <td>5.033195e+05</td>\n",
       "      <td>2.598260e+05</td>\n",
       "      <td>NaN</td>\n",
       "    </tr>\n",
       "    <tr>\n",
       "      <th>75%</th>\n",
       "      <td>7.233560e+05</td>\n",
       "      <td>4.896950e+05</td>\n",
       "      <td>NaN</td>\n",
       "    </tr>\n",
       "    <tr>\n",
       "      <th>max</th>\n",
       "      <td>8.254080e+05</td>\n",
       "      <td>1.561001e+06</td>\n",
       "      <td>NaN</td>\n",
       "    </tr>\n",
       "  </tbody>\n",
       "</table>\n",
       "</div>"
      ],
      "text/plain": [
       "            nl_email            id   gender\n",
       "count   8.584534e+06  8.584534e+06  8584534\n",
       "unique           NaN           NaN        2\n",
       "top              NaN           NaN     male\n",
       "freq             NaN           NaN  4865002\n",
       "mean    4.723107e+05  3.402812e+05      NaN\n",
       "std     2.483444e+05  3.009962e+05      NaN\n",
       "min     0.000000e+00  1.000000e+00      NaN\n",
       "25%     2.608062e+05  1.060490e+05      NaN\n",
       "50%     5.033195e+05  2.598260e+05      NaN\n",
       "75%     7.233560e+05  4.896950e+05      NaN\n",
       "max     8.254080e+05  1.561001e+06      NaN"
      ]
     },
     "execution_count": 6,
     "metadata": {},
     "output_type": "execute_result"
    }
   ],
   "source": [
    "data.describe(include='all')"
   ]
  },
  {
   "cell_type": "code",
   "execution_count": 7,
   "metadata": {},
   "outputs": [],
   "source": [
    "#create a work version of dataset\n",
    "data_w = data.copy(deep = True)"
   ]
  },
  {
   "cell_type": "code",
   "execution_count": 8,
   "metadata": {},
   "outputs": [
    {
     "name": "stdout",
     "output_type": "stream",
     "text": [
      "nl_email    0\n",
      "id          0\n",
      "gender      0\n",
      "dtype: int64\n"
     ]
    }
   ],
   "source": [
    "# Look for null values\n",
    "print(data_w.isnull().sum())"
   ]
  },
  {
   "cell_type": "markdown",
   "metadata": {},
   "source": [
    "##### -->no missing values, data appears to be clean"
   ]
  },
  {
   "cell_type": "markdown",
   "metadata": {},
   "source": [
    "## Convert Formats"
   ]
  },
  {
   "cell_type": "code",
   "execution_count": 9,
   "metadata": {},
   "outputs": [],
   "source": [
    "# Code categorical data : gender_code (male is '1' and female is '0'), nl_code and id_code\n",
    "# https://scikit-learn.org/stable/modules/generated/sklearn.preprocessing.LabelEncoder.html\n",
    "label = LabelEncoder()\n",
    "data_w['nl_code'] = label.fit_transform(data_w['nl_email'])\n",
    "data_w['id_code'] = label.fit_transform(data_w['id'])\n",
    "data_w['gender_code'] = label.fit_transform(data_w['gender'])"
   ]
  },
  {
   "cell_type": "markdown",
   "metadata": {},
   "source": [
    "##### / ! \\ here, nl_code should be one hot encoded to be able to group by users every newsletter ; and also to avoid having a hierarchical link between newsletters in some models that don't handle well cathegorical variables. However, creating 100 000 columns is a heavy computational cost and I could not run it on my personal computer. Hence, I decided to try and reduce the number of newsletters in my analysis."
   ]
  },
  {
   "cell_type": "code",
   "execution_count": 10,
   "metadata": {},
   "outputs": [],
   "source": [
    "# Define target variable and delete categorical column\n",
    "Target = ['gender_code']\n",
    "data_w = data_w.drop(columns = ['gender', 'nl_email', 'id'])"
   ]
  },
  {
   "cell_type": "markdown",
   "metadata": {},
   "source": [
    "## Feature Reduction"
   ]
  },
  {
   "cell_type": "code",
   "execution_count": 11,
   "metadata": {},
   "outputs": [
    {
     "name": "stdout",
     "output_type": "stream",
     "text": [
      "         nb_users\n",
      "nl_code          \n",
      "728929      81792\n",
      "577008      74552\n",
      "593870      73961\n",
      "110810      70888\n",
      "159157      68377\n",
      "\n",
      "\n",
      "----------\n",
      "\n",
      "\n",
      "         nb_users\n",
      "nl_code          \n",
      "167121          1\n",
      "453352          1\n",
      "167123          1\n",
      "453350          1\n",
      "825408          1\n"
     ]
    },
    {
     "data": {
      "text/html": [
       "<div>\n",
       "<style scoped>\n",
       "    .dataframe tbody tr th:only-of-type {\n",
       "        vertical-align: middle;\n",
       "    }\n",
       "\n",
       "    .dataframe tbody tr th {\n",
       "        vertical-align: top;\n",
       "    }\n",
       "\n",
       "    .dataframe thead th {\n",
       "        text-align: right;\n",
       "    }\n",
       "</style>\n",
       "<table border=\"1\" class=\"dataframe\">\n",
       "  <thead>\n",
       "    <tr style=\"text-align: right;\">\n",
       "      <th></th>\n",
       "      <th>nb_users</th>\n",
       "    </tr>\n",
       "  </thead>\n",
       "  <tbody>\n",
       "    <tr>\n",
       "      <th>count</th>\n",
       "      <td>825409.00000</td>\n",
       "    </tr>\n",
       "    <tr>\n",
       "      <th>mean</th>\n",
       "      <td>10.40034</td>\n",
       "    </tr>\n",
       "    <tr>\n",
       "      <th>std</th>\n",
       "      <td>299.58956</td>\n",
       "    </tr>\n",
       "    <tr>\n",
       "      <th>min</th>\n",
       "      <td>1.00000</td>\n",
       "    </tr>\n",
       "    <tr>\n",
       "      <th>25%</th>\n",
       "      <td>1.00000</td>\n",
       "    </tr>\n",
       "    <tr>\n",
       "      <th>50%</th>\n",
       "      <td>1.00000</td>\n",
       "    </tr>\n",
       "    <tr>\n",
       "      <th>75%</th>\n",
       "      <td>2.00000</td>\n",
       "    </tr>\n",
       "    <tr>\n",
       "      <th>max</th>\n",
       "      <td>81792.00000</td>\n",
       "    </tr>\n",
       "  </tbody>\n",
       "</table>\n",
       "</div>"
      ],
      "text/plain": [
       "           nb_users\n",
       "count  825409.00000\n",
       "mean       10.40034\n",
       "std       299.58956\n",
       "min         1.00000\n",
       "25%         1.00000\n",
       "50%         1.00000\n",
       "75%         2.00000\n",
       "max     81792.00000"
      ]
     },
     "execution_count": 11,
     "metadata": {},
     "output_type": "execute_result"
    }
   ],
   "source": [
    "# Group Newsletters by users\n",
    "users_by_nl = data_w['id_code'].groupby(data_w['nl_code']).count()\n",
    "users_by_nl = pd.DataFrame(users_by_nl)\n",
    "users_by_nl.columns = ['nb_users']\n",
    "\n",
    "# Sort Descending\n",
    "users_by_nl.sort_values(by='nb_users', ascending=False, inplace=True)\n",
    "\n",
    "# Before reducing, let's keep a trace of the tab for later comparison\n",
    "\n",
    "tmp = users_by_nl\n",
    "\n",
    "print (users_by_nl.head())\n",
    "print ('\\n')\n",
    "print ('-'*10)\n",
    "print ('\\n')\n",
    "print (users_by_nl.tail())\n",
    "users_by_nl.describe(include='all')"
   ]
  },
  {
   "cell_type": "markdown",
   "metadata": {},
   "source": [
    "##### For a population size of 8 584 534, we can pick a sample size of 384 with an error margin of 5% with 95% confidence. Let's remove newsletters that have less than 384 subcribers since they are not representative of the population\n",
    "https://en.wikipedia.org/wiki/Statistical_significance \\\n",
    "https://www.checkmarket.com/sample-size-calculator/"
   ]
  },
  {
   "cell_type": "code",
   "execution_count": 12,
   "metadata": {},
   "outputs": [
    {
     "data": {
      "text/html": [
       "<div>\n",
       "<style scoped>\n",
       "    .dataframe tbody tr th:only-of-type {\n",
       "        vertical-align: middle;\n",
       "    }\n",
       "\n",
       "    .dataframe tbody tr th {\n",
       "        vertical-align: top;\n",
       "    }\n",
       "\n",
       "    .dataframe thead th {\n",
       "        text-align: right;\n",
       "    }\n",
       "</style>\n",
       "<table border=\"1\" class=\"dataframe\">\n",
       "  <thead>\n",
       "    <tr style=\"text-align: right;\">\n",
       "      <th></th>\n",
       "      <th>nb_users</th>\n",
       "    </tr>\n",
       "  </thead>\n",
       "  <tbody>\n",
       "    <tr>\n",
       "      <th>count</th>\n",
       "      <td>2450.000000</td>\n",
       "    </tr>\n",
       "    <tr>\n",
       "      <th>mean</th>\n",
       "      <td>1795.433878</td>\n",
       "    </tr>\n",
       "    <tr>\n",
       "      <th>std</th>\n",
       "      <td>5187.524829</td>\n",
       "    </tr>\n",
       "    <tr>\n",
       "      <th>min</th>\n",
       "      <td>384.000000</td>\n",
       "    </tr>\n",
       "    <tr>\n",
       "      <th>25%</th>\n",
       "      <td>483.000000</td>\n",
       "    </tr>\n",
       "    <tr>\n",
       "      <th>50%</th>\n",
       "      <td>686.500000</td>\n",
       "    </tr>\n",
       "    <tr>\n",
       "      <th>75%</th>\n",
       "      <td>1287.000000</td>\n",
       "    </tr>\n",
       "    <tr>\n",
       "      <th>max</th>\n",
       "      <td>81792.000000</td>\n",
       "    </tr>\n",
       "  </tbody>\n",
       "</table>\n",
       "</div>"
      ],
      "text/plain": [
       "           nb_users\n",
       "count   2450.000000\n",
       "mean    1795.433878\n",
       "std     5187.524829\n",
       "min      384.000000\n",
       "25%      483.000000\n",
       "50%      686.500000\n",
       "75%     1287.000000\n",
       "max    81792.000000"
      ]
     },
     "execution_count": 12,
     "metadata": {},
     "output_type": "execute_result"
    }
   ],
   "source": [
    "# Delete newsletters that only have 1 or 2 subscribers\n",
    "users_by_nl = users_by_nl[users_by_nl['nb_users'] >= 384]\n",
    "\n",
    "users_by_nl.describe(include='all')"
   ]
  },
  {
   "cell_type": "code",
   "execution_count": 13,
   "metadata": {},
   "outputs": [
    {
     "name": "stdout",
     "output_type": "stream",
     "text": [
      "   nl_code  id_code  gender_code  nb_users\n",
      "0    89982    23652            1      3190\n",
      "1    89982    16503            0      3190\n",
      "2    89982   104756            0      3190\n",
      "3    89982   142738            0      3190\n",
      "4    89982     9101            1      3190\n"
     ]
    },
    {
     "data": {
      "text/html": [
       "<div>\n",
       "<style scoped>\n",
       "    .dataframe tbody tr th:only-of-type {\n",
       "        vertical-align: middle;\n",
       "    }\n",
       "\n",
       "    .dataframe tbody tr th {\n",
       "        vertical-align: top;\n",
       "    }\n",
       "\n",
       "    .dataframe thead th {\n",
       "        text-align: right;\n",
       "    }\n",
       "</style>\n",
       "<table border=\"1\" class=\"dataframe\">\n",
       "  <thead>\n",
       "    <tr style=\"text-align: right;\">\n",
       "      <th></th>\n",
       "      <th>nl_code</th>\n",
       "      <th>id_code</th>\n",
       "      <th>gender_code</th>\n",
       "      <th>nb_users</th>\n",
       "    </tr>\n",
       "  </thead>\n",
       "  <tbody>\n",
       "    <tr>\n",
       "      <th>count</th>\n",
       "      <td>4.398813e+06</td>\n",
       "      <td>4.398813e+06</td>\n",
       "      <td>4.398813e+06</td>\n",
       "      <td>4.398813e+06</td>\n",
       "    </tr>\n",
       "    <tr>\n",
       "      <th>mean</th>\n",
       "      <td>4.865450e+05</td>\n",
       "      <td>9.034346e+04</td>\n",
       "      <td>5.366116e-01</td>\n",
       "      <td>1.677757e+04</td>\n",
       "    </tr>\n",
       "    <tr>\n",
       "      <th>std</th>\n",
       "      <td>2.506001e+05</td>\n",
       "      <td>5.829132e+04</td>\n",
       "      <td>4.986578e-01</td>\n",
       "      <td>2.343145e+04</td>\n",
       "    </tr>\n",
       "    <tr>\n",
       "      <th>min</th>\n",
       "      <td>1.886000e+03</td>\n",
       "      <td>0.000000e+00</td>\n",
       "      <td>0.000000e+00</td>\n",
       "      <td>3.840000e+02</td>\n",
       "    </tr>\n",
       "    <tr>\n",
       "      <th>25%</th>\n",
       "      <td>2.660300e+05</td>\n",
       "      <td>3.959700e+04</td>\n",
       "      <td>0.000000e+00</td>\n",
       "      <td>1.172000e+03</td>\n",
       "    </tr>\n",
       "    <tr>\n",
       "      <th>50%</th>\n",
       "      <td>5.353040e+05</td>\n",
       "      <td>8.529900e+04</td>\n",
       "      <td>1.000000e+00</td>\n",
       "      <td>4.288000e+03</td>\n",
       "    </tr>\n",
       "    <tr>\n",
       "      <th>75%</th>\n",
       "      <td>7.394610e+05</td>\n",
       "      <td>1.379270e+05</td>\n",
       "      <td>1.000000e+00</td>\n",
       "      <td>2.228800e+04</td>\n",
       "    </tr>\n",
       "    <tr>\n",
       "      <th>max</th>\n",
       "      <td>8.254060e+05</td>\n",
       "      <td>2.039450e+05</td>\n",
       "      <td>1.000000e+00</td>\n",
       "      <td>8.179200e+04</td>\n",
       "    </tr>\n",
       "  </tbody>\n",
       "</table>\n",
       "</div>"
      ],
      "text/plain": [
       "            nl_code       id_code   gender_code      nb_users\n",
       "count  4.398813e+06  4.398813e+06  4.398813e+06  4.398813e+06\n",
       "mean   4.865450e+05  9.034346e+04  5.366116e-01  1.677757e+04\n",
       "std    2.506001e+05  5.829132e+04  4.986578e-01  2.343145e+04\n",
       "min    1.886000e+03  0.000000e+00  0.000000e+00  3.840000e+02\n",
       "25%    2.660300e+05  3.959700e+04  0.000000e+00  1.172000e+03\n",
       "50%    5.353040e+05  8.529900e+04  1.000000e+00  4.288000e+03\n",
       "75%    7.394610e+05  1.379270e+05  1.000000e+00  2.228800e+04\n",
       "max    8.254060e+05  2.039450e+05  1.000000e+00  8.179200e+04"
      ]
     },
     "execution_count": 13,
     "metadata": {},
     "output_type": "execute_result"
    }
   ],
   "source": [
    "# Now we apply this feature reduction to our dataset data_w\n",
    "data_w = pd.merge(data_w, users_by_nl, on='nl_code')\n",
    "\n",
    "print (data_w.head())\n",
    "data_w.describe(include='all')"
   ]
  },
  {
   "cell_type": "code",
   "execution_count": 14,
   "metadata": {},
   "outputs": [
    {
     "name": "stdout",
     "output_type": "stream",
     "text": [
      "number of nl_code in new data set: 2450\n",
      "number of nl_code after dropping the irrelevant ones: 2450\n"
     ]
    }
   ],
   "source": [
    "# quick verification to make sure the merge was successful\n",
    "print (\"number of nl_code in new data set:\", len(set(data_w.nl_code)))\n",
    "print (\"number of nl_code after dropping the irrelevant ones:\", len(set(users_by_nl.index)))"
   ]
  },
  {
   "cell_type": "code",
   "execution_count": 15,
   "metadata": {},
   "outputs": [
    {
     "name": "stdout",
     "output_type": "stream",
     "text": [
      "initially there were 203946 unique users\n",
      "we have reduced them to 200977 by deleting 822959 newsletters\n"
     ]
    }
   ],
   "source": [
    "# quick summary of how we changed the data so far\n",
    "print (\"initially there were\", len(set(data['id'])), \"unique users\")\n",
    "print (\"we have reduced them to\", len(set(data_w.id_code)),\\\n",
    "       \"by deleting\", len(set(data['nl_email'])) - len(set(data_w.nl_code)),\\\n",
    "      \"newsletters\") "
   ]
  },
  {
   "cell_type": "markdown",
   "metadata": {},
   "source": [
    "## Exploratory Analysis "
   ]
  },
  {
   "cell_type": "code",
   "execution_count": 16,
   "metadata": {},
   "outputs": [
    {
     "data": {
      "text/html": [
       "<div>\n",
       "<style scoped>\n",
       "    .dataframe tbody tr th:only-of-type {\n",
       "        vertical-align: middle;\n",
       "    }\n",
       "\n",
       "    .dataframe tbody tr th {\n",
       "        vertical-align: top;\n",
       "    }\n",
       "\n",
       "    .dataframe thead th {\n",
       "        text-align: right;\n",
       "    }\n",
       "</style>\n",
       "<table border=\"1\" class=\"dataframe\">\n",
       "  <thead>\n",
       "    <tr style=\"text-align: right;\">\n",
       "      <th>gender_code</th>\n",
       "      <th>0</th>\n",
       "      <th>1</th>\n",
       "    </tr>\n",
       "    <tr>\n",
       "      <th>nl_code</th>\n",
       "      <th></th>\n",
       "      <th></th>\n",
       "    </tr>\n",
       "  </thead>\n",
       "  <tbody>\n",
       "    <tr>\n",
       "      <th>1886</th>\n",
       "      <td>298</td>\n",
       "      <td>871</td>\n",
       "    </tr>\n",
       "    <tr>\n",
       "      <th>3282</th>\n",
       "      <td>418</td>\n",
       "      <td>1153</td>\n",
       "    </tr>\n",
       "    <tr>\n",
       "      <th>17120</th>\n",
       "      <td>680</td>\n",
       "      <td>218</td>\n",
       "    </tr>\n",
       "    <tr>\n",
       "      <th>18609</th>\n",
       "      <td>325</td>\n",
       "      <td>817</td>\n",
       "    </tr>\n",
       "    <tr>\n",
       "      <th>18625</th>\n",
       "      <td>227</td>\n",
       "      <td>426</td>\n",
       "    </tr>\n",
       "  </tbody>\n",
       "</table>\n",
       "</div>"
      ],
      "text/plain": [
       "gender_code    0     1\n",
       "nl_code               \n",
       "1886         298   871\n",
       "3282         418  1153\n",
       "17120        680   218\n",
       "18609        325   817\n",
       "18625        227   426"
      ]
     },
     "execution_count": 16,
     "metadata": {},
     "output_type": "execute_result"
    }
   ],
   "source": [
    "# Let's look at newsletters splitted by gender\n",
    "crosstab_nl = pd.crosstab(data_w['nl_code'], data_w[Target[0]])\n",
    "crosstab_nl.head()"
   ]
  },
  {
   "cell_type": "code",
   "execution_count": 17,
   "metadata": {},
   "outputs": [
    {
     "data": {
      "text/html": [
       "<div>\n",
       "<style scoped>\n",
       "    .dataframe tbody tr th:only-of-type {\n",
       "        vertical-align: middle;\n",
       "    }\n",
       "\n",
       "    .dataframe tbody tr th {\n",
       "        vertical-align: top;\n",
       "    }\n",
       "\n",
       "    .dataframe thead th {\n",
       "        text-align: right;\n",
       "    }\n",
       "</style>\n",
       "<table border=\"1\" class=\"dataframe\">\n",
       "  <thead>\n",
       "    <tr style=\"text-align: right;\">\n",
       "      <th></th>\n",
       "      <th>female</th>\n",
       "      <th>male</th>\n",
       "      <th>nb_users</th>\n",
       "    </tr>\n",
       "    <tr>\n",
       "      <th>nl_code</th>\n",
       "      <th></th>\n",
       "      <th></th>\n",
       "      <th></th>\n",
       "    </tr>\n",
       "  </thead>\n",
       "  <tbody>\n",
       "    <tr>\n",
       "      <th>1886</th>\n",
       "      <td>298</td>\n",
       "      <td>871</td>\n",
       "      <td>1169</td>\n",
       "    </tr>\n",
       "    <tr>\n",
       "      <th>3282</th>\n",
       "      <td>418</td>\n",
       "      <td>1153</td>\n",
       "      <td>1571</td>\n",
       "    </tr>\n",
       "    <tr>\n",
       "      <th>17120</th>\n",
       "      <td>680</td>\n",
       "      <td>218</td>\n",
       "      <td>898</td>\n",
       "    </tr>\n",
       "    <tr>\n",
       "      <th>18609</th>\n",
       "      <td>325</td>\n",
       "      <td>817</td>\n",
       "      <td>1142</td>\n",
       "    </tr>\n",
       "    <tr>\n",
       "      <th>18625</th>\n",
       "      <td>227</td>\n",
       "      <td>426</td>\n",
       "      <td>653</td>\n",
       "    </tr>\n",
       "  </tbody>\n",
       "</table>\n",
       "</div>"
      ],
      "text/plain": [
       "         female  male  nb_users\n",
       "nl_code                        \n",
       "1886        298   871      1169\n",
       "3282        418  1153      1571\n",
       "17120       680   218       898\n",
       "18609       325   817      1142\n",
       "18625       227   426       653"
      ]
     },
     "execution_count": 17,
     "metadata": {},
     "output_type": "execute_result"
    }
   ],
   "source": [
    "# Merge data\n",
    "crosstab = pd.merge(crosstab_nl, users_by_nl, on='nl_code')\n",
    "crosstab.columns = ['female', 'male', 'nb_users']\n",
    "crosstab.head()"
   ]
  },
  {
   "cell_type": "code",
   "execution_count": 19,
   "metadata": {},
   "outputs": [
    {
     "data": {
      "text/html": [
       "<div>\n",
       "<style scoped>\n",
       "    .dataframe tbody tr th:only-of-type {\n",
       "        vertical-align: middle;\n",
       "    }\n",
       "\n",
       "    .dataframe tbody tr th {\n",
       "        vertical-align: top;\n",
       "    }\n",
       "\n",
       "    .dataframe thead th {\n",
       "        text-align: right;\n",
       "    }\n",
       "</style>\n",
       "<table border=\"1\" class=\"dataframe\">\n",
       "  <thead>\n",
       "    <tr style=\"text-align: right;\">\n",
       "      <th></th>\n",
       "      <th>female</th>\n",
       "      <th>male</th>\n",
       "      <th>nb_users</th>\n",
       "    </tr>\n",
       "  </thead>\n",
       "  <tbody>\n",
       "    <tr>\n",
       "      <th>count</th>\n",
       "      <td>2450.000000</td>\n",
       "      <td>2450.000000</td>\n",
       "      <td>2450.000000</td>\n",
       "    </tr>\n",
       "    <tr>\n",
       "      <th>mean</th>\n",
       "      <td>831.983265</td>\n",
       "      <td>963.450612</td>\n",
       "      <td>1795.433878</td>\n",
       "    </tr>\n",
       "    <tr>\n",
       "      <th>std</th>\n",
       "      <td>2263.041369</td>\n",
       "      <td>3003.172997</td>\n",
       "      <td>5187.524829</td>\n",
       "    </tr>\n",
       "    <tr>\n",
       "      <th>min</th>\n",
       "      <td>12.000000</td>\n",
       "      <td>17.000000</td>\n",
       "      <td>384.000000</td>\n",
       "    </tr>\n",
       "    <tr>\n",
       "      <th>25%</th>\n",
       "      <td>199.000000</td>\n",
       "      <td>247.000000</td>\n",
       "      <td>483.000000</td>\n",
       "    </tr>\n",
       "    <tr>\n",
       "      <th>50%</th>\n",
       "      <td>327.500000</td>\n",
       "      <td>371.000000</td>\n",
       "      <td>686.500000</td>\n",
       "    </tr>\n",
       "    <tr>\n",
       "      <th>75%</th>\n",
       "      <td>632.750000</td>\n",
       "      <td>662.000000</td>\n",
       "      <td>1287.000000</td>\n",
       "    </tr>\n",
       "    <tr>\n",
       "      <th>max</th>\n",
       "      <td>32708.000000</td>\n",
       "      <td>49084.000000</td>\n",
       "      <td>81792.000000</td>\n",
       "    </tr>\n",
       "  </tbody>\n",
       "</table>\n",
       "</div>"
      ],
      "text/plain": [
       "             female          male      nb_users\n",
       "count   2450.000000   2450.000000   2450.000000\n",
       "mean     831.983265    963.450612   1795.433878\n",
       "std     2263.041369   3003.172997   5187.524829\n",
       "min       12.000000     17.000000    384.000000\n",
       "25%      199.000000    247.000000    483.000000\n",
       "50%      327.500000    371.000000    686.500000\n",
       "75%      632.750000    662.000000   1287.000000\n",
       "max    32708.000000  49084.000000  81792.000000"
      ]
     },
     "execution_count": 19,
     "metadata": {},
     "output_type": "execute_result"
    }
   ],
   "source": [
    "crosstab.describe(include='all')"
   ]
  },
  {
   "cell_type": "markdown",
   "metadata": {},
   "source": [
    "##### Visualization"
   ]
  },
  {
   "cell_type": "code",
   "execution_count": 20,
   "metadata": {},
   "outputs": [
    {
     "data": {
      "image/png": "[encoded data removed]",
      "text/plain": [
       "<Figure size 432x288 with 1 Axes>"
      ]
     },
     "metadata": {
      "needs_background": "light"
     },
     "output_type": "display_data"
    }
   ],
   "source": [
    "# Visualize dataset dispersion\n",
    "ax = sns.scatterplot(x=crosstab.index, y=\"nb_users\",\\\n",
    "    data=crosstab.sort_values(by='nb_users', ascending=False))"
   ]
  },
  {
   "cell_type": "markdown",
   "metadata": {},
   "source": [
    "##### The dispersion showed in the precedent chart could be misleading because it seems that nl_code indexes are no longer following each other after we dropped some of them. Let's reset the indexes and find a more appropriate scale :"
   ]
  },
  {
   "cell_type": "code",
   "execution_count": 21,
   "metadata": {},
   "outputs": [
    {
     "data": {
      "image/png": "[encoded data removed]",
      "text/plain": [
       "<Figure size 1800x1440 with 4 Axes>"
      ]
     },
     "metadata": {
      "needs_background": "light"
     },
     "output_type": "display_data"
    }
   ],
   "source": [
    "fig = plt.figure(figsize=[25,20])\n",
    "\n",
    "fig.add_subplot(221)\n",
    "plt.title('Dispersion of nl by number of users before feature reduction')\n",
    "tmp_reset = tmp.reset_index()\n",
    "ax = sns.scatterplot(x=tmp_reset.index, y=\"nb_users\", \\\n",
    "    data=tmp_reset.sort_values(by='nb_users', ascending=False))\n",
    "ax.set_yscale('log')\n",
    "\n",
    "fig.add_subplot(222)\n",
    "plt.title('Dispersion of nl by number of users after feature reduction')\n",
    "tab = crosstab.reset_index()\n",
    "ax = sns.scatterplot(x=tab.index, y=\"nb_users\", \\\n",
    "    data=tab.sort_values(by='nb_users', ascending=False))\n",
    "ax.set_yscale('log')\n",
    "\n",
    "fig.add_subplot(223)\n",
    "plt.title('Dispersion of nl by users (after feature reduction)')\n",
    "ax = sns.distplot(tab['nb_users'])\n",
    "ax.set_yscale('linear')\n",
    "\n",
    "fig.add_subplot(224)\n",
    "plt.title('Dispersion of bin of 100 nl by users (after feature reduction)')\n",
    "ax = sns.distplot(tab['nb_users'], bins=100, kde=False, rug=True)\n",
    "ax.set_yscale('log')\n",
    "\n",
    "plt.show()"
   ]
  },
  {
   "cell_type": "markdown",
   "metadata": {},
   "source": [
    "##### --> Here we can see that only a few newsletters regroup most people, even after feature reduction."
   ]
  },
  {
   "cell_type": "code",
   "execution_count": 22,
   "metadata": {},
   "outputs": [],
   "source": [
    "tab_perc = crosstab.copy(deep=True)\n",
    "tab_perc.male = (100. * tab_perc.male / (tab_perc.nb_users)).round(0)\n",
    "tab_perc.female = (100. * tab_perc.female / (tab_perc.nb_users)).round(0)"
   ]
  },
  {
   "cell_type": "code",
   "execution_count": 23,
   "metadata": {},
   "outputs": [
    {
     "data": {
      "text/html": [
       "<div>\n",
       "<style scoped>\n",
       "    .dataframe tbody tr th:only-of-type {\n",
       "        vertical-align: middle;\n",
       "    }\n",
       "\n",
       "    .dataframe tbody tr th {\n",
       "        vertical-align: top;\n",
       "    }\n",
       "\n",
       "    .dataframe thead th {\n",
       "        text-align: right;\n",
       "    }\n",
       "</style>\n",
       "<table border=\"1\" class=\"dataframe\">\n",
       "  <thead>\n",
       "    <tr style=\"text-align: right;\">\n",
       "      <th></th>\n",
       "      <th>female</th>\n",
       "      <th>male</th>\n",
       "      <th>nb_users</th>\n",
       "    </tr>\n",
       "  </thead>\n",
       "  <tbody>\n",
       "    <tr>\n",
       "      <th>count</th>\n",
       "      <td>2450.000000</td>\n",
       "      <td>2450.000000</td>\n",
       "      <td>2450.000000</td>\n",
       "    </tr>\n",
       "    <tr>\n",
       "      <th>mean</th>\n",
       "      <td>46.908571</td>\n",
       "      <td>53.091429</td>\n",
       "      <td>1795.433878</td>\n",
       "    </tr>\n",
       "    <tr>\n",
       "      <th>std</th>\n",
       "      <td>19.851712</td>\n",
       "      <td>19.851712</td>\n",
       "      <td>5187.524829</td>\n",
       "    </tr>\n",
       "    <tr>\n",
       "      <th>min</th>\n",
       "      <td>3.000000</td>\n",
       "      <td>4.000000</td>\n",
       "      <td>384.000000</td>\n",
       "    </tr>\n",
       "    <tr>\n",
       "      <th>25%</th>\n",
       "      <td>33.000000</td>\n",
       "      <td>40.000000</td>\n",
       "      <td>483.000000</td>\n",
       "    </tr>\n",
       "    <tr>\n",
       "      <th>50%</th>\n",
       "      <td>45.000000</td>\n",
       "      <td>55.000000</td>\n",
       "      <td>686.500000</td>\n",
       "    </tr>\n",
       "    <tr>\n",
       "      <th>75%</th>\n",
       "      <td>60.000000</td>\n",
       "      <td>67.000000</td>\n",
       "      <td>1287.000000</td>\n",
       "    </tr>\n",
       "    <tr>\n",
       "      <th>max</th>\n",
       "      <td>96.000000</td>\n",
       "      <td>97.000000</td>\n",
       "      <td>81792.000000</td>\n",
       "    </tr>\n",
       "  </tbody>\n",
       "</table>\n",
       "</div>"
      ],
      "text/plain": [
       "            female         male      nb_users\n",
       "count  2450.000000  2450.000000   2450.000000\n",
       "mean     46.908571    53.091429   1795.433878\n",
       "std      19.851712    19.851712   5187.524829\n",
       "min       3.000000     4.000000    384.000000\n",
       "25%      33.000000    40.000000    483.000000\n",
       "50%      45.000000    55.000000    686.500000\n",
       "75%      60.000000    67.000000   1287.000000\n",
       "max      96.000000    97.000000  81792.000000"
      ]
     },
     "execution_count": 23,
     "metadata": {},
     "output_type": "execute_result"
    }
   ],
   "source": [
    "tab_perc.reset_index()\n",
    "tab_perc.describe(include='all')"
   ]
  },
  {
   "cell_type": "code",
   "execution_count": 24,
   "metadata": {},
   "outputs": [
    {
     "data": {
      "image/png": "[encoded data removed]",
      "text/plain": [
       "<Figure size 1800x1440 with 2 Axes>"
      ]
     },
     "metadata": {
      "needs_background": "light"
     },
     "output_type": "display_data"
    }
   ],
   "source": [
    "# Let's look at the gender split in the newsletters\n",
    "\n",
    "fig = plt.figure(figsize=[25,20])\n",
    "\n",
    "fig.add_subplot(221)\n",
    "plt.title('Dispersion of female by newsletter')\n",
    "ax = sns.scatterplot(x=tab_perc.index, y=\"female\",\\\n",
    "    data=tab_perc.sort_values(by='female', ascending=False))\n",
    "ax.set_yscale('linear')\n",
    "\n",
    "fig.add_subplot(222)\n",
    "plt.title('Dispersion of male % by newsletter')\n",
    "ax = sns.scatterplot(x=tab_perc.index, y=\"male\",\\\n",
    "    data=tab_perc.sort_values(by='male', ascending=False))\n",
    "ax.set_yscale('linear')"
   ]
  },
  {
   "cell_type": "markdown",
   "metadata": {},
   "source": [
    "##### --> The dispersion curve looks similar for men and women across newsletters which makes sense since it is strongly correlated with the number of users per newsletter. Overall however, there are more men than women."
   ]
  },
  {
   "cell_type": "code",
   "execution_count": 25,
   "metadata": {},
   "outputs": [
    {
     "data": {
      "text/html": [
       "<div>\n",
       "<style scoped>\n",
       "    .dataframe tbody tr th:only-of-type {\n",
       "        vertical-align: middle;\n",
       "    }\n",
       "\n",
       "    .dataframe tbody tr th {\n",
       "        vertical-align: top;\n",
       "    }\n",
       "\n",
       "    .dataframe thead th {\n",
       "        text-align: right;\n",
       "    }\n",
       "</style>\n",
       "<table border=\"1\" class=\"dataframe\">\n",
       "  <thead>\n",
       "    <tr style=\"text-align: right;\">\n",
       "      <th></th>\n",
       "      <th>nl_code</th>\n",
       "      <th>female</th>\n",
       "      <th>male</th>\n",
       "      <th>nb_users</th>\n",
       "    </tr>\n",
       "  </thead>\n",
       "  <tbody>\n",
       "    <tr>\n",
       "      <th>count</th>\n",
       "      <td>2450.000000</td>\n",
       "      <td>2450.000000</td>\n",
       "      <td>2450.000000</td>\n",
       "      <td>2450.000000</td>\n",
       "    </tr>\n",
       "    <tr>\n",
       "      <th>mean</th>\n",
       "      <td>504346.216735</td>\n",
       "      <td>46.908571</td>\n",
       "      <td>53.091429</td>\n",
       "      <td>1795.433878</td>\n",
       "    </tr>\n",
       "    <tr>\n",
       "      <th>std</th>\n",
       "      <td>251539.214091</td>\n",
       "      <td>19.851712</td>\n",
       "      <td>19.851712</td>\n",
       "      <td>5187.524829</td>\n",
       "    </tr>\n",
       "    <tr>\n",
       "      <th>min</th>\n",
       "      <td>1886.000000</td>\n",
       "      <td>3.000000</td>\n",
       "      <td>4.000000</td>\n",
       "      <td>384.000000</td>\n",
       "    </tr>\n",
       "    <tr>\n",
       "      <th>25%</th>\n",
       "      <td>274703.750000</td>\n",
       "      <td>33.000000</td>\n",
       "      <td>40.000000</td>\n",
       "      <td>483.000000</td>\n",
       "    </tr>\n",
       "    <tr>\n",
       "      <th>50%</th>\n",
       "      <td>535543.500000</td>\n",
       "      <td>45.000000</td>\n",
       "      <td>55.000000</td>\n",
       "      <td>686.500000</td>\n",
       "    </tr>\n",
       "    <tr>\n",
       "      <th>75%</th>\n",
       "      <td>767584.250000</td>\n",
       "      <td>60.000000</td>\n",
       "      <td>67.000000</td>\n",
       "      <td>1287.000000</td>\n",
       "    </tr>\n",
       "    <tr>\n",
       "      <th>max</th>\n",
       "      <td>825406.000000</td>\n",
       "      <td>96.000000</td>\n",
       "      <td>97.000000</td>\n",
       "      <td>81792.000000</td>\n",
       "    </tr>\n",
       "  </tbody>\n",
       "</table>\n",
       "</div>"
      ],
      "text/plain": [
       "             nl_code       female         male      nb_users\n",
       "count    2450.000000  2450.000000  2450.000000   2450.000000\n",
       "mean   504346.216735    46.908571    53.091429   1795.433878\n",
       "std    251539.214091    19.851712    19.851712   5187.524829\n",
       "min      1886.000000     3.000000     4.000000    384.000000\n",
       "25%    274703.750000    33.000000    40.000000    483.000000\n",
       "50%    535543.500000    45.000000    55.000000    686.500000\n",
       "75%    767584.250000    60.000000    67.000000   1287.000000\n",
       "max    825406.000000    96.000000    97.000000  81792.000000"
      ]
     },
     "execution_count": 25,
     "metadata": {},
     "output_type": "execute_result"
    }
   ],
   "source": [
    "tab_perc = tab_perc.sort_values(by='nb_users', ascending=False)\n",
    "tab_perc = tab_perc.reset_index()\n",
    "tab_perc.describe(include='all')"
   ]
  },
  {
   "cell_type": "code",
   "execution_count": 26,
   "metadata": {},
   "outputs": [
    {
     "data": {
      "text/html": [
       "<div>\n",
       "<style scoped>\n",
       "    .dataframe tbody tr th:only-of-type {\n",
       "        vertical-align: middle;\n",
       "    }\n",
       "\n",
       "    .dataframe tbody tr th {\n",
       "        vertical-align: top;\n",
       "    }\n",
       "\n",
       "    .dataframe thead th {\n",
       "        text-align: right;\n",
       "    }\n",
       "</style>\n",
       "<table border=\"1\" class=\"dataframe\">\n",
       "  <thead>\n",
       "    <tr style=\"text-align: right;\">\n",
       "      <th></th>\n",
       "      <th>female</th>\n",
       "      <th>male</th>\n",
       "      <th>nb_users</th>\n",
       "    </tr>\n",
       "    <tr>\n",
       "      <th>nl_code</th>\n",
       "      <th></th>\n",
       "      <th></th>\n",
       "      <th></th>\n",
       "    </tr>\n",
       "  </thead>\n",
       "  <tbody>\n",
       "    <tr>\n",
       "      <th>1886</th>\n",
       "      <td>298</td>\n",
       "      <td>871</td>\n",
       "      <td>1169</td>\n",
       "    </tr>\n",
       "    <tr>\n",
       "      <th>3282</th>\n",
       "      <td>418</td>\n",
       "      <td>1153</td>\n",
       "      <td>1571</td>\n",
       "    </tr>\n",
       "    <tr>\n",
       "      <th>17120</th>\n",
       "      <td>680</td>\n",
       "      <td>218</td>\n",
       "      <td>898</td>\n",
       "    </tr>\n",
       "    <tr>\n",
       "      <th>18609</th>\n",
       "      <td>325</td>\n",
       "      <td>817</td>\n",
       "      <td>1142</td>\n",
       "    </tr>\n",
       "    <tr>\n",
       "      <th>18625</th>\n",
       "      <td>227</td>\n",
       "      <td>426</td>\n",
       "      <td>653</td>\n",
       "    </tr>\n",
       "  </tbody>\n",
       "</table>\n",
       "</div>"
      ],
      "text/plain": [
       "         female  male  nb_users\n",
       "nl_code                        \n",
       "1886        298   871      1169\n",
       "3282        418  1153      1571\n",
       "17120       680   218       898\n",
       "18609       325   817      1142\n",
       "18625       227   426       653"
      ]
     },
     "execution_count": 26,
     "metadata": {},
     "output_type": "execute_result"
    }
   ],
   "source": [
    "crosstab.head()"
   ]
  },
  {
   "cell_type": "code",
   "execution_count": 27,
   "metadata": {},
   "outputs": [
    {
     "data": {
      "image/png": "[encoded data removed]",
      "text/plain": [
       "<Figure size 1800x1440 with 2 Axes>"
      ]
     },
     "metadata": {
      "needs_background": "light"
     },
     "output_type": "display_data"
    }
   ],
   "source": [
    "fig = plt.figure(figsize=[25,20])\n",
    "\n",
    "fig.add_subplot(221)\n",
    "plt.title('Dispersion of male & female by newsletter')\n",
    "ax = plt.hist(x=[crosstab['male'], crosstab['female']],\\\n",
    "              stacked=True, label = ['male','female'])\n",
    "\n",
    "fig.add_subplot(222)\n",
    "plt.title('Dispersion of male & female')\n",
    "ax = plt.hist(x=[tab_perc['male'], tab_perc['female']],\\\n",
    "              stacked=True, label = ['male','female'])"
   ]
  },
  {
   "cell_type": "code",
   "execution_count": 28,
   "metadata": {},
   "outputs": [
    {
     "name": "stderr",
     "output_type": "stream",
     "text": [
      "/Users/Myma/mybenzar/miniconda3/lib/python3.7/site-packages/sklearn/preprocessing/_encoders.py:371: FutureWarning: The handling of integer data will change in version 0.22. Currently, the categories are determined based on the range [0, max(values)], while in the future they will be determined based on the unique values.\n",
      "If you want the future behaviour and silence this warning, you can specify \"categories='auto'\".\n",
      "In case you used a LabelEncoder before this OneHotEncoder to convert the categories to integers, then you can now use the OneHotEncoder directly.\n",
      "  warnings.warn(msg, FutureWarning)\n"
     ]
    }
   ],
   "source": [
    "#Let's try to one hot encode newsletters now that we have reduced their number\n",
    "onehot_encoder = OneHotEncoder(sparse=False, dtype='int32')\n",
    "onehot_encoded = onehot_encoder.fit_transform(data_w['nl_code'].values.reshape(-1,1))"
   ]
  },
  {
   "cell_type": "code",
   "execution_count": 29,
   "metadata": {},
   "outputs": [
    {
     "data": {
      "text/plain": [
       "(4398813, 2450)"
      ]
     },
     "execution_count": 29,
     "metadata": {},
     "output_type": "execute_result"
    }
   ],
   "source": [
    "onehot_encoded.shape"
   ]
  },
  {
   "cell_type": "code",
   "execution_count": 30,
   "metadata": {},
   "outputs": [],
   "source": [
    "nl_columns = []\n",
    "for elem in data_w.nl_code:\n",
    "    nl_columns.append(elem)"
   ]
  },
  {
   "cell_type": "code",
   "execution_count": 31,
   "metadata": {},
   "outputs": [],
   "source": [
    "nl_columns = np.array(list(set(nl_columns)))"
   ]
  },
  {
   "cell_type": "code",
   "execution_count": 32,
   "metadata": {},
   "outputs": [],
   "source": [
    "index = []\n",
    "for elem in data_w.id_code:\n",
    "    index.append(elem)"
   ]
  },
  {
   "cell_type": "code",
   "execution_count": 33,
   "metadata": {},
   "outputs": [
    {
     "data": {
      "text/plain": [
       "array([[0, 0, 0, ..., 0, 0, 0],\n",
       "       [0, 0, 0, ..., 0, 0, 0],\n",
       "       [0, 0, 0, ..., 0, 0, 0],\n",
       "       ...,\n",
       "       [0, 0, 0, ..., 0, 0, 0],\n",
       "       [0, 0, 0, ..., 0, 0, 0],\n",
       "       [0, 0, 0, ..., 0, 0, 0]], dtype=int32)"
      ]
     },
     "execution_count": 33,
     "metadata": {},
     "output_type": "execute_result"
    }
   ],
   "source": [
    "onehot_encoded"
   ]
  },
  {
   "cell_type": "code",
   "execution_count": 34,
   "metadata": {},
   "outputs": [],
   "source": [
    "df = pd.DataFrame(onehot_encoded, index=index, columns=nl_columns)"
   ]
  },
  {
   "cell_type": "code",
   "execution_count": 35,
   "metadata": {},
   "outputs": [
    {
     "data": {
      "text/html": [
       "<div>\n",
       "<style scoped>\n",
       "    .dataframe tbody tr th:only-of-type {\n",
       "        vertical-align: middle;\n",
       "    }\n",
       "\n",
       "    .dataframe tbody tr th {\n",
       "        vertical-align: top;\n",
       "    }\n",
       "\n",
       "    .dataframe thead th {\n",
       "        text-align: right;\n",
       "    }\n",
       "</style>\n",
       "<table border=\"1\" class=\"dataframe\">\n",
       "  <thead>\n",
       "    <tr style=\"text-align: right;\">\n",
       "      <th></th>\n",
       "      <th>516101</th>\n",
       "      <th>786438</th>\n",
       "      <th>262154</th>\n",
       "      <th>360460</th>\n",
       "      <th>466957</th>\n",
       "      <th>360461</th>\n",
       "      <th>131087</th>\n",
       "      <th>262160</th>\n",
       "      <th>270349</th>\n",
       "      <th>262158</th>\n",
       "      <th>...</th>\n",
       "      <th>729019</th>\n",
       "      <th>450502</th>\n",
       "      <th>466887</th>\n",
       "      <th>24520</th>\n",
       "      <th>90062</th>\n",
       "      <th>802774</th>\n",
       "      <th>253915</th>\n",
       "      <th>90083</th>\n",
       "      <th>294890</th>\n",
       "      <th>212984</th>\n",
       "    </tr>\n",
       "  </thead>\n",
       "  <tbody>\n",
       "    <tr>\n",
       "      <th>23652</th>\n",
       "      <td>0</td>\n",
       "      <td>0</td>\n",
       "      <td>0</td>\n",
       "      <td>0</td>\n",
       "      <td>0</td>\n",
       "      <td>0</td>\n",
       "      <td>0</td>\n",
       "      <td>0</td>\n",
       "      <td>0</td>\n",
       "      <td>0</td>\n",
       "      <td>...</td>\n",
       "      <td>0</td>\n",
       "      <td>0</td>\n",
       "      <td>0</td>\n",
       "      <td>0</td>\n",
       "      <td>0</td>\n",
       "      <td>0</td>\n",
       "      <td>0</td>\n",
       "      <td>0</td>\n",
       "      <td>0</td>\n",
       "      <td>0</td>\n",
       "    </tr>\n",
       "    <tr>\n",
       "      <th>16503</th>\n",
       "      <td>0</td>\n",
       "      <td>0</td>\n",
       "      <td>0</td>\n",
       "      <td>0</td>\n",
       "      <td>0</td>\n",
       "      <td>0</td>\n",
       "      <td>0</td>\n",
       "      <td>0</td>\n",
       "      <td>0</td>\n",
       "      <td>0</td>\n",
       "      <td>...</td>\n",
       "      <td>0</td>\n",
       "      <td>0</td>\n",
       "      <td>0</td>\n",
       "      <td>0</td>\n",
       "      <td>0</td>\n",
       "      <td>0</td>\n",
       "      <td>0</td>\n",
       "      <td>0</td>\n",
       "      <td>0</td>\n",
       "      <td>0</td>\n",
       "    </tr>\n",
       "    <tr>\n",
       "      <th>104756</th>\n",
       "      <td>0</td>\n",
       "      <td>0</td>\n",
       "      <td>0</td>\n",
       "      <td>0</td>\n",
       "      <td>0</td>\n",
       "      <td>0</td>\n",
       "      <td>0</td>\n",
       "      <td>0</td>\n",
       "      <td>0</td>\n",
       "      <td>0</td>\n",
       "      <td>...</td>\n",
       "      <td>0</td>\n",
       "      <td>0</td>\n",
       "      <td>0</td>\n",
       "      <td>0</td>\n",
       "      <td>0</td>\n",
       "      <td>0</td>\n",
       "      <td>0</td>\n",
       "      <td>0</td>\n",
       "      <td>0</td>\n",
       "      <td>0</td>\n",
       "    </tr>\n",
       "    <tr>\n",
       "      <th>142738</th>\n",
       "      <td>0</td>\n",
       "      <td>0</td>\n",
       "      <td>0</td>\n",
       "      <td>0</td>\n",
       "      <td>0</td>\n",
       "      <td>0</td>\n",
       "      <td>0</td>\n",
       "      <td>0</td>\n",
       "      <td>0</td>\n",
       "      <td>0</td>\n",
       "      <td>...</td>\n",
       "      <td>0</td>\n",
       "      <td>0</td>\n",
       "      <td>0</td>\n",
       "      <td>0</td>\n",
       "      <td>0</td>\n",
       "      <td>0</td>\n",
       "      <td>0</td>\n",
       "      <td>0</td>\n",
       "      <td>0</td>\n",
       "      <td>0</td>\n",
       "    </tr>\n",
       "    <tr>\n",
       "      <th>9101</th>\n",
       "      <td>0</td>\n",
       "      <td>0</td>\n",
       "      <td>0</td>\n",
       "      <td>0</td>\n",
       "      <td>0</td>\n",
       "      <td>0</td>\n",
       "      <td>0</td>\n",
       "      <td>0</td>\n",
       "      <td>0</td>\n",
       "      <td>0</td>\n",
       "      <td>...</td>\n",
       "      <td>0</td>\n",
       "      <td>0</td>\n",
       "      <td>0</td>\n",
       "      <td>0</td>\n",
       "      <td>0</td>\n",
       "      <td>0</td>\n",
       "      <td>0</td>\n",
       "      <td>0</td>\n",
       "      <td>0</td>\n",
       "      <td>0</td>\n",
       "    </tr>\n",
       "  </tbody>\n",
       "</table>\n",
       "<p>5 rows × 2450 columns</p>\n",
       "</div>"
      ],
      "text/plain": [
       "        516101  786438  262154  360460  466957  360461  131087  262160  \\\n",
       "23652        0       0       0       0       0       0       0       0   \n",
       "16503        0       0       0       0       0       0       0       0   \n",
       "104756       0       0       0       0       0       0       0       0   \n",
       "142738       0       0       0       0       0       0       0       0   \n",
       "9101         0       0       0       0       0       0       0       0   \n",
       "\n",
       "        270349  262158  ...  729019  450502  466887  24520   90062   802774  \\\n",
       "23652        0       0  ...       0       0       0       0       0       0   \n",
       "16503        0       0  ...       0       0       0       0       0       0   \n",
       "104756       0       0  ...       0       0       0       0       0       0   \n",
       "142738       0       0  ...       0       0       0       0       0       0   \n",
       "9101         0       0  ...       0       0       0       0       0       0   \n",
       "\n",
       "        253915  90083   294890  212984  \n",
       "23652        0       0       0       0  \n",
       "16503        0       0       0       0  \n",
       "104756       0       0       0       0  \n",
       "142738       0       0       0       0  \n",
       "9101         0       0       0       0  \n",
       "\n",
       "[5 rows x 2450 columns]"
      ]
     },
     "execution_count": 35,
     "metadata": {},
     "output_type": "execute_result"
    }
   ],
   "source": [
    "df.head()"
   ]
  },
  {
   "cell_type": "code",
   "execution_count": 36,
   "metadata": {},
   "outputs": [
    {
     "data": {
      "text/plain": [
       "(4398813, 2450)"
      ]
     },
     "execution_count": 36,
     "metadata": {},
     "output_type": "execute_result"
    }
   ],
   "source": [
    "df.shape"
   ]
  },
  {
   "cell_type": "markdown",
   "metadata": {},
   "source": [
    "## Split Training and Testing Data"
   ]
  },
  {
   "cell_type": "code",
   "execution_count": 37,
   "metadata": {},
   "outputs": [
    {
     "name": "stdout",
     "output_type": "stream",
     "text": [
      "X shape = (4398813, 2450)\n",
      "Y shape = (4398813,) \n",
      "\n",
      "----------\n",
      "\n",
      "\n",
      "X: \n",
      "         516101  786438  262154  360460  466957  360461  131087  262160  \\\n",
      "23652        0       0       0       0       0       0       0       0   \n",
      "16503        0       0       0       0       0       0       0       0   \n",
      "104756       0       0       0       0       0       0       0       0   \n",
      "142738       0       0       0       0       0       0       0       0   \n",
      "9101         0       0       0       0       0       0       0       0   \n",
      "\n",
      "        270349  262158  ...  729019  450502  466887  24520   90062   802774  \\\n",
      "23652        0       0  ...       0       0       0       0       0       0   \n",
      "16503        0       0  ...       0       0       0       0       0       0   \n",
      "104756       0       0  ...       0       0       0       0       0       0   \n",
      "142738       0       0  ...       0       0       0       0       0       0   \n",
      "9101         0       0  ...       0       0       0       0       0       0   \n",
      "\n",
      "        253915  90083   294890  212984  \n",
      "23652        0       0       0       0  \n",
      "16503        0       0       0       0  \n",
      "104756       0       0       0       0  \n",
      "142738       0       0       0       0  \n",
      "9101         0       0       0       0  \n",
      "\n",
      "[5 rows x 2450 columns] \n",
      "\n",
      "Y:\n",
      " 0    1\n",
      "1    0\n",
      "2    0\n",
      "3    0\n",
      "4    1\n",
      "Name: gender_code, dtype: int32\n"
     ]
    }
   ],
   "source": [
    "# Define X and Y variables for later split\n",
    "# reminder : always convert the target with data.target or else the shape won't be adequate\n",
    "X = df\n",
    "Y = data_w.gender_code\n",
    "Y = Y.astype('int32')\n",
    "\n",
    "print('X shape =', X.shape)\n",
    "print('Y shape =', Y.shape, '\\n')\n",
    "print('-' * 10)\n",
    "print ('\\n')\n",
    "print ('X: \\n', X.head(), '\\n')\n",
    "print('Y:\\n', Y.head())"
   ]
  },
  {
   "cell_type": "markdown",
   "metadata": {},
   "source": [
    "#### ---> Tying to test/train split the data with this number of features ended up crashing my computer each time probably for RAM reasons. I tried reducing memory use with using int32 instead of default floats, but it wasn't enough"
   ]
  },
  {
   "cell_type": "code",
   "execution_count": 38,
   "metadata": {},
   "outputs": [],
   "source": [
    "X_train, X_test, y_train, y_test = \\\n",
    "train_test_split(X, Y, test_size=0.1)"
   ]
  },
  {
   "cell_type": "markdown",
   "metadata": {},
   "source": [
    "## Modelling "
   ]
  },
  {
   "cell_type": "markdown",
   "metadata": {},
   "source": [
    "##### Knowing we are in a supervised learning context and that the variable we are trying to predict is discrete, we can use a classification algorithm. Here are the models I would have liked to try :"
   ]
  },
  {
   "cell_type": "markdown",
   "metadata": {},
   "source": [
    "###### --> Logistic Regression"
   ]
  },
  {
   "cell_type": "code",
   "execution_count": null,
   "metadata": {},
   "outputs": [],
   "source": [
    "#apply Logistic Regression\n",
    "# values.ravel: https://stackoverflow.com/questions/34165731/a-column-vector-y-was-passed-when-a-1d-array-was-expected\n",
    "model = linear_model.LogisticRegression()\n",
    "model.fit(X_train, y_train.values.ravel())"
   ]
  },
  {
   "cell_type": "code",
   "execution_count": null,
   "metadata": {},
   "outputs": [],
   "source": [
    "y_predicted = model.predict(X_test)"
   ]
  },
  {
   "cell_type": "code",
   "execution_count": null,
   "metadata": {},
   "outputs": [],
   "source": [
    "print(y_predicted)\n",
    "np.unique(y_predicted)"
   ]
  },
  {
   "cell_type": "code",
   "execution_count": null,
   "metadata": {
    "scrolled": true
   },
   "outputs": [],
   "source": [
    "model.predict_proba(X_test)"
   ]
  },
  {
   "cell_type": "code",
   "execution_count": null,
   "metadata": {},
   "outputs": [],
   "source": [
    "model.score(X_test,y_test)"
   ]
  },
  {
   "cell_type": "markdown",
   "metadata": {},
   "source": [
    "###### --> Random Forest"
   ]
  },
  {
   "cell_type": "code",
   "execution_count": null,
   "metadata": {},
   "outputs": [],
   "source": [
    "#apply Random Forest\n",
    "model = ensemble.RandomForestClassifier()\n",
    "model.fit(X_train, y_train.values.ravel())"
   ]
  },
  {
   "cell_type": "code",
   "execution_count": null,
   "metadata": {},
   "outputs": [],
   "source": [
    "y_predicted = model.predict(X_test)\n",
    "print(y_predicted)\n",
    "print('unique values = ', np.unique(y_predicted))\n",
    "model.predict_proba(X_test)"
   ]
  },
  {
   "cell_type": "code",
   "execution_count": null,
   "metadata": {},
   "outputs": [],
   "source": [
    "model.score(X_test,y_test)"
   ]
  },
  {
   "cell_type": "markdown",
   "metadata": {},
   "source": [
    "###### --> Naive Bayes"
   ]
  },
  {
   "cell_type": "code",
   "execution_count": null,
   "metadata": {},
   "outputs": [],
   "source": [
    "#apply Naive Bayes\n",
    "model = naive_bayes.GaussianNB()\n",
    "model.fit(X_train, y_train.values.ravel())"
   ]
  },
  {
   "cell_type": "code",
   "execution_count": null,
   "metadata": {},
   "outputs": [],
   "source": [
    "y_predicted = model.predict(X_test)\n",
    "print(y_predicted)\n",
    "print ('unique values = ', np.unique(y_predicted))\n",
    "model.predict_proba(X_test)"
   ]
  },
  {
   "cell_type": "code",
   "execution_count": null,
   "metadata": {},
   "outputs": [],
   "source": [
    "model.score(X_test,y_test)"
   ]
  },
  {
   "cell_type": "markdown",
   "metadata": {},
   "source": [
    "##### --> AdaBoost"
   ]
  },
  {
   "cell_type": "code",
   "execution_count": null,
   "metadata": {},
   "outputs": [],
   "source": [
    "model = ensemble.AdaBoostClassifier()\n",
    "model.fit(X_train, y_train.values.ravel())"
   ]
  },
  {
   "cell_type": "code",
   "execution_count": null,
   "metadata": {},
   "outputs": [],
   "source": [
    "y_predicted = model.predict(X_test)\n",
    "print(y_predicted)\n",
    "print ('unique values = ', np.unique(y_predicted))\n",
    "model.predict_proba(X_test)"
   ]
  },
  {
   "cell_type": "code",
   "execution_count": null,
   "metadata": {},
   "outputs": [],
   "source": [
    "model.score(X_test,y_test)"
   ]
  }
 ],
 "metadata": {
  "kernelspec": {
   "display_name": "Python 3",
   "language": "python",
   "name": "python3"
  },
  "language_info": {
   "codemirror_mode": {
    "name": "ipython",
    "version": 3
   },
   "file_extension": ".py",
   "mimetype": "text/x-python",
   "name": "python",
   "nbconvert_exporter": "python",
   "pygments_lexer": "ipython3",
   "version": "3.7.1"
  }
 },
 "nbformat": 4,
 "nbformat_minor": 2
}
